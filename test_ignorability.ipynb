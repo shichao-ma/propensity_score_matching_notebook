{
  "nbformat": 4,
  "nbformat_minor": 0,
  "metadata": {
    "colab": {
      "name": "test-ignorability.ipynb",
      "provenance": [],
      "collapsed_sections": [],
      "toc_visible": true
    },
    "kernelspec": {
      "name": "python3",
      "display_name": "Python 3"
    },
    "language_info": {
      "name": "python"
    }
  },
  "cells": [
    {
      "cell_type": "markdown",
      "metadata": {
        "id": "4r-qBr9nBfQK"
      },
      "source": [
        "# Propensity Score Matching: A Practitioner's Appendium\n",
        "\n",
        "\n",
        "## TL;DR\n",
        "This article discusses the usage and a common pitfall of the Propensity Score Matching (PSM) from a working data scientist's perspective in the language that (hopefully) is accessible to most data scientists that are familar with causal inference.\n",
        "\n",
        "1. In a simulation exercise, I show PSM can be used to remove functional form dependence.\n",
        "1. The key assumption in matching is the ignorability assumption. I show why you want to make sure this assumption holds.\n",
        "1. I propose a user friendly way to test the ignorability assumption.\n",
        "1. Code snippets using Python libraries that are familiar to most data scientists are provided.\n",
        "\n",
        "\n",
        "## Introduction\n",
        "\n",
        "TBD\n",
        "\n",
        "### A Note on the Terminalogy\n",
        "- Treatment: intervention, TODO add more\n",
        "- Propensity score, or simply propensity: the probability of being treated\n",
        "- Outcome: the metric you care about, typically your primary business metric that you're hoping to optimize"
      ]
    },
    {
      "cell_type": "code",
      "metadata": {
        "colab": {
          "base_uri": "https://localhost:8080/",
          "height": 327
        },
        "id": "UxqeukQGwwtk",
        "outputId": "72d0e3ce-3ef9-4ad0-fcaf-ebe3f0766c2a"
      },
      "source": [
        "# Google's colab has a older version of lightgbm, which\n",
        "# is not compatible with the outcome model's code\n",
        "!pip uninstall -y lightgbm\n",
        "!pip install lightgbm"
      ],
      "execution_count": 4,
      "outputs": [
        {
          "output_type": "stream",
          "text": [
            "Uninstalling lightgbm-2.2.3:\n",
            "  Successfully uninstalled lightgbm-2.2.3\n",
            "Collecting lightgbm\n",
            "\u001b[?25l  Downloading https://files.pythonhosted.org/packages/18/b2/fff8370f48549ce223f929fe8cab4ee6bf285a41f86037d91312b48ed95b/lightgbm-3.2.1-py3-none-manylinux1_x86_64.whl (2.0MB)\n",
            "\u001b[K     |████████████████████████████████| 2.0MB 4.0MB/s \n",
            "\u001b[?25hRequirement already satisfied: scikit-learn!=0.22.0 in /usr/local/lib/python3.7/dist-packages (from lightgbm) (0.22.2.post1)\n",
            "Requirement already satisfied: wheel in /usr/local/lib/python3.7/dist-packages (from lightgbm) (0.36.2)\n",
            "Requirement already satisfied: scipy in /usr/local/lib/python3.7/dist-packages (from lightgbm) (1.4.1)\n",
            "Requirement already satisfied: numpy in /usr/local/lib/python3.7/dist-packages (from lightgbm) (1.19.5)\n",
            "Requirement already satisfied: joblib>=0.11 in /usr/local/lib/python3.7/dist-packages (from scikit-learn!=0.22.0->lightgbm) (1.0.1)\n",
            "Installing collected packages: lightgbm\n",
            "Successfully installed lightgbm-3.2.1\n"
          ],
          "name": "stdout"
        },
        {
          "output_type": "display_data",
          "data": {
            "application/vnd.colab-display-data+json": {
              "pip_warning": {
                "packages": [
                  "lightgbm"
                ]
              }
            }
          },
          "metadata": {
            "tags": []
          }
        }
      ]
    },
    {
      "cell_type": "markdown",
      "metadata": {
        "id": "psSC4Y9BPYhl"
      },
      "source": [
        "Your usual imports."
      ]
    },
    {
      "cell_type": "code",
      "metadata": {
        "colab": {
          "base_uri": "https://localhost:8080/",
          "height": 0
        },
        "id": "Alim5C-shIlm",
        "outputId": "2a23cbe5-c2bc-4364-a111-9dfea70c6e66"
      },
      "source": [
        "import pandas as pd\n",
        "import numpy as np\n",
        "from scipy.stats import bernoulli\n",
        "from scipy.special import expit\n",
        "import seaborn as sns\n",
        "import statsmodels.formula.api as smf\n",
        "import lightgbm as lgb\n",
        "from sklearn.feature_selection import mutual_info_regression"
      ],
      "execution_count": 1,
      "outputs": [
        {
          "output_type": "stream",
          "text": [
            "/usr/local/lib/python3.7/dist-packages/statsmodels/tools/_testing.py:19: FutureWarning: pandas.util.testing is deprecated. Use the functions in the public API at pandas.testing instead.\n",
            "  import pandas.util.testing as tm\n"
          ],
          "name": "stderr"
        }
      ]
    },
    {
      "cell_type": "markdown",
      "metadata": {
        "id": "3UTAhTqJmeXn"
      },
      "source": [
        "Let's generate some simulation data to play with."
      ]
    },
    {
      "cell_type": "code",
      "metadata": {
        "colab": {
          "base_uri": "https://localhost:8080/",
          "height": 204
        },
        "id": "9xX6LznulWXf",
        "outputId": "331fdf79-4717-4647-b30d-2e186581c8bc"
      },
      "source": [
        "np.random.seed(0)\n",
        "N = 10_000\n",
        "df = pd.DataFrame(\n",
        "    np.random.rand(N, 6),\n",
        "    columns=list('abcdef'),\n",
        ")\n",
        "df['true_ps'] = expit(df['a'] + 3 * df['b'] - 0.2 * df['c'] - 2 * df['f'])\n",
        "df['treatment'] = bernoulli.rvs(df['true_ps'])\n",
        "df['outcome'] = (\n",
        "    (\n",
        "        15 * df['a'] / np.exp(df['c'])) ** df['b'] \n",
        "        + (0.7 * np.sin(df['b']) \n",
        "        - 0.3 * np.exp(df['c']) ** 2\n",
        "    ) + np.random.normal(size=N)\n",
        ")\n",
        "df.head()"
      ],
      "execution_count": 2,
      "outputs": [
        {
          "output_type": "execute_result",
          "data": {
            "text/html": [
              "<div>\n",
              "<style scoped>\n",
              "    .dataframe tbody tr th:only-of-type {\n",
              "        vertical-align: middle;\n",
              "    }\n",
              "\n",
              "    .dataframe tbody tr th {\n",
              "        vertical-align: top;\n",
              "    }\n",
              "\n",
              "    .dataframe thead th {\n",
              "        text-align: right;\n",
              "    }\n",
              "</style>\n",
              "<table border=\"1\" class=\"dataframe\">\n",
              "  <thead>\n",
              "    <tr style=\"text-align: right;\">\n",
              "      <th></th>\n",
              "      <th>a</th>\n",
              "      <th>b</th>\n",
              "      <th>c</th>\n",
              "      <th>d</th>\n",
              "      <th>e</th>\n",
              "      <th>f</th>\n",
              "      <th>true_ps</th>\n",
              "      <th>treatment</th>\n",
              "      <th>outcome</th>\n",
              "    </tr>\n",
              "  </thead>\n",
              "  <tbody>\n",
              "    <tr>\n",
              "      <th>0</th>\n",
              "      <td>0.548814</td>\n",
              "      <td>0.715189</td>\n",
              "      <td>0.602763</td>\n",
              "      <td>0.544883</td>\n",
              "      <td>0.423655</td>\n",
              "      <td>0.645894</td>\n",
              "      <td>0.782797</td>\n",
              "      <td>0</td>\n",
              "      <td>1.740649</td>\n",
              "    </tr>\n",
              "    <tr>\n",
              "      <th>1</th>\n",
              "      <td>0.437587</td>\n",
              "      <td>0.891773</td>\n",
              "      <td>0.963663</td>\n",
              "      <td>0.383442</td>\n",
              "      <td>0.791725</td>\n",
              "      <td>0.528895</td>\n",
              "      <td>0.865575</td>\n",
              "      <td>0</td>\n",
              "      <td>0.953746</td>\n",
              "    </tr>\n",
              "    <tr>\n",
              "      <th>2</th>\n",
              "      <td>0.568045</td>\n",
              "      <td>0.925597</td>\n",
              "      <td>0.071036</td>\n",
              "      <td>0.087129</td>\n",
              "      <td>0.020218</td>\n",
              "      <td>0.832620</td>\n",
              "      <td>0.840960</td>\n",
              "      <td>1</td>\n",
              "      <td>6.752207</td>\n",
              "    </tr>\n",
              "    <tr>\n",
              "      <th>3</th>\n",
              "      <td>0.778157</td>\n",
              "      <td>0.870012</td>\n",
              "      <td>0.978618</td>\n",
              "      <td>0.799159</td>\n",
              "      <td>0.461479</td>\n",
              "      <td>0.780529</td>\n",
              "      <td>0.836363</td>\n",
              "      <td>1</td>\n",
              "      <td>3.800730</td>\n",
              "    </tr>\n",
              "    <tr>\n",
              "      <th>4</th>\n",
              "      <td>0.118274</td>\n",
              "      <td>0.639921</td>\n",
              "      <td>0.143353</td>\n",
              "      <td>0.944669</td>\n",
              "      <td>0.521848</td>\n",
              "      <td>0.414662</td>\n",
              "      <td>0.764956</td>\n",
              "      <td>1</td>\n",
              "      <td>1.983770</td>\n",
              "    </tr>\n",
              "  </tbody>\n",
              "</table>\n",
              "</div>"
            ],
            "text/plain": [
              "          a         b         c  ...   true_ps  treatment   outcome\n",
              "0  0.548814  0.715189  0.602763  ...  0.782797          0  1.740649\n",
              "1  0.437587  0.891773  0.963663  ...  0.865575          0  0.953746\n",
              "2  0.568045  0.925597  0.071036  ...  0.840960          1  6.752207\n",
              "3  0.778157  0.870012  0.978618  ...  0.836363          1  3.800730\n",
              "4  0.118274  0.639921  0.143353  ...  0.764956          1  1.983770\n",
              "\n",
              "[5 rows x 9 columns]"
            ]
          },
          "metadata": {
            "tags": []
          },
          "execution_count": 2
        }
      ]
    },
    {
      "cell_type": "markdown",
      "metadata": {
        "id": "ZBtDiFmuPhmh"
      },
      "source": [
        "Note that here I generated 6 features. The true propensity score (`true_ps`) follows a standard logistic form (`expit` is just the Sigmoid function) so that we do not need a sophisticated non-linear model on the propensity score. The `treatment` column indicates the binary intervention. The `outcome` column is the metric we care about. In a business context, it means a business metric that we're trying to move through the intervention.\n",
        "\n",
        "As you can see, the relationship between the `outcome` and the features is highly non-linear. It turns out this is necessary for the point I'm about to make. In reality, however, the relationship between your business metric and your features might be more complex. But, importantly, the `outcome` has nothing to do with the `treatment`. In other words, the true treatment effect is zero throughout the board.\n",
        "\n",
        "In practice, we would observe all the 6 features, the treatment label, and the outcome column. But we would not know the true propensity score, or the functional forms that generate the true propensity score or the outcome."
      ]
    },
    {
      "cell_type": "code",
      "metadata": {
        "colab": {
          "base_uri": "https://localhost:8080/",
          "height": 0
        },
        "id": "AEriFtKKltP5",
        "outputId": "c15f2767-0e8d-412d-d1ff-a9ea4b329285"
      },
      "source": [
        "df['treatment'].sum()"
      ],
      "execution_count": 3,
      "outputs": [
        {
          "output_type": "execute_result",
          "data": {
            "text/plain": [
              "6669"
            ]
          },
          "metadata": {
            "tags": []
          },
          "execution_count": 3
        }
      ]
    },
    {
      "cell_type": "markdown",
      "metadata": {
        "id": "8oiEivGxRp5S"
      },
      "source": [
        "The following is the relationship between the true propensity score and the treatment. Not surprisingly, data points being treated have higher propensity scores in general."
      ]
    },
    {
      "cell_type": "code",
      "metadata": {
        "colab": {
          "base_uri": "https://localhost:8080/",
          "height": 386
        },
        "id": "k7rKSWuOlvIW",
        "outputId": "7d617027-b03e-4921-a18f-3de412bebaad"
      },
      "source": [
        "sns.displot(df, x='true_ps', hue='treatment')"
      ],
      "execution_count": 4,
      "outputs": [
        {
          "output_type": "execute_result",
          "data": {
            "text/plain": [
              "<seaborn.axisgrid.FacetGrid at 0x7f8474f949d0>"
            ]
          },
          "metadata": {
            "tags": []
          },
          "execution_count": 4
        },
        {
          "output_type": "display_data",
          "data": {
            "image/png": "[encoded data removed]",
            "text/plain": [
              "<Figure size 417.875x360 with 1 Axes>"
            ]
          },
          "metadata": {
            "tags": [],
            "needs_background": "light"
          }
        }
      ]
    },
    {
      "cell_type": "code",
      "metadata": {
        "colab": {
          "base_uri": "https://localhost:8080/",
          "height": 386
        },
        "id": "PKKeAEuIlxOR",
        "outputId": "4bbcad24-e764-422b-bf36-717451058c85"
      },
      "source": [
        "sns.displot(df, x='outcome', hue='treatment')"
      ],
      "execution_count": 5,
      "outputs": [
        {
          "output_type": "execute_result",
          "data": {
            "text/plain": [
              "<seaborn.axisgrid.FacetGrid at 0x7f844a04a690>"
            ]
          },
          "metadata": {
            "tags": []
          },
          "execution_count": 5
        },
        {
          "output_type": "display_data",
          "data": {
            "image/png": "[encoded data removed]",
            "text/plain": [
              "<Figure size 417.875x360 with 1 Axes>"
            ]
          },
          "metadata": {
            "tags": [],
            "needs_background": "light"
          }
        }
      ]
    },
    {
      "cell_type": "markdown",
      "metadata": {
        "id": "r7Z_RHWFl5vv"
      },
      "source": [
        "Suppose a data scientist has correctly identified `a` to `f` as confounding features and decides to include the confounding features in their analysis. Following the common practice, they run a regression on the treatment label and all the confounding features, as follows."
      ]
    },
    {
      "cell_type": "code",
      "metadata": {
        "colab": {
          "base_uri": "https://localhost:8080/",
          "height": 0
        },
        "id": "Q51Spnddl0_k",
        "outputId": "1c68ef72-7952-4612-d80d-3389413ca392"
      },
      "source": [
        "print(smf.ols('outcome ~ treatment + a + b + c + d + e + f', data=df).fit().summary())"
      ],
      "execution_count": 6,
      "outputs": [
        {
          "output_type": "stream",
          "text": [
            "                            OLS Regression Results                            \n",
            "==============================================================================\n",
            "Dep. Variable:                outcome   R-squared:                       0.620\n",
            "Model:                            OLS   Adj. R-squared:                  0.620\n",
            "Method:                 Least Squares   F-statistic:                     2333.\n",
            "Date:                Wed, 26 May 2021   Prob (F-statistic):               0.00\n",
            "Time:                        22:22:11   Log-Likelihood:                -17104.\n",
            "No. Observations:               10000   AIC:                         3.422e+04\n",
            "Df Residuals:                    9992   BIC:                         3.428e+04\n",
            "Df Model:                           7                                         \n",
            "Covariance Type:            nonrobust                                         \n",
            "==============================================================================\n",
            "                 coef    std err          t      P>|t|      [0.025      0.975]\n",
            "------------------------------------------------------------------------------\n",
            "Intercept     -0.3330      0.060     -5.536      0.000      -0.451      -0.215\n",
            "treatment     -0.1013      0.031     -3.218      0.001      -0.163      -0.040\n",
            "a              3.0977      0.047     66.417      0.000       3.006       3.189\n",
            "b              4.0618      0.050     81.622      0.000       3.964       4.159\n",
            "c             -3.1148      0.046    -67.120      0.000      -3.206      -3.024\n",
            "d              0.0245      0.046      0.528      0.597      -0.066       0.115\n",
            "e              0.0088      0.046      0.190      0.849      -0.082       0.100\n",
            "f              0.0188      0.048      0.393      0.694      -0.075       0.112\n",
            "==============================================================================\n",
            "Omnibus:                      461.686   Durbin-Watson:                   2.001\n",
            "Prob(Omnibus):                  0.000   Jarque-Bera (JB):              691.152\n",
            "Skew:                           0.422   Prob(JB):                    8.29e-151\n",
            "Kurtosis:                       3.972   Cond. No.                         9.70\n",
            "==============================================================================\n",
            "\n",
            "Warnings:\n",
            "[1] Standard Errors assume that the covariance matrix of the errors is correctly specified.\n"
          ],
          "name": "stdout"
        }
      ]
    },
    {
      "cell_type": "markdown",
      "metadata": {
        "id": "Fr0jMk6tqzwA"
      },
      "source": [
        "The model incorrectly attributes a `-0.1` effect to the treatment, and it is statistically significant under all conventional thresholds. The data scientist would conclude the treatment negatively impact the outcome.\n",
        "\n",
        "Why? In this model the confounders enter the regression in a linear way. Because the functional form is not able to fully capture the true relationship (the nonlinear one we cooked up in the data generating part) and the treatment label is correlated with those confounding features, some of the nonlinear effects are attributed to the treatment.\n",
        "\n",
        "Can a nonlinear model help? Well maybe. If the model were correctly specificed (i.e., has the correct functional form), then the model would be able to tell the true treatment effect is zero. But without knowing the true relationship, this is unlikely to happen."
      ]
    },
    {
      "cell_type": "markdown",
      "metadata": {
        "id": "nxr9P27oWM6p"
      },
      "source": [
        "We can use propensity score matching to remove the model uncertainty.\n",
        "\n",
        "TODO: Explain (King et al.?)\n",
        "\n",
        "Let's first build a propensity score model. Because we only consider binary treatment here, a propensity score model is just a binary classifier that can make probability predictions. \n",
        "\n",
        "Here I will cheat a little bit. I run a simple (means not regularized) logistic regression as the propensity score model. Because we already know the data generating process of the propensity score, this is the most efficient model. \n",
        "\n",
        "In a real problem, you may want to use a more capable binary classifier. If you decide to train a more ML-like binary classifier, then you still want to follow the best practices on the bias and variance tradeoff. In this use case, however, we do not care about accuracy/precision/recall/f1 or any other evaulation metrics that only compare binary predictions against their labels. Instead, you want to choose a evaulation metric that captures prediction probabilities. The good old \"log loss\" is usually a good choice."
      ]
    },
    {
      "cell_type": "code",
      "metadata": {
        "colab": {
          "base_uri": "https://localhost:8080/",
          "height": 0
        },
        "id": "KcD00NoEm26f",
        "outputId": "617e3610-ad73-402a-c305-72f1408ef6b6"
      },
      "source": [
        "ps_model = smf.logit('treatment ~ a + b + c + d + e + f', data=df).fit()\n",
        "print(ps_model.summary())"
      ],
      "execution_count": 7,
      "outputs": [
        {
          "output_type": "stream",
          "text": [
            "Optimization terminated successfully.\n",
            "         Current function value: 0.535076\n",
            "         Iterations 6\n",
            "                           Logit Regression Results                           \n",
            "==============================================================================\n",
            "Dep. Variable:              treatment   No. Observations:                10000\n",
            "Model:                          Logit   Df Residuals:                     9993\n",
            "Method:                           MLE   Df Model:                            6\n",
            "Date:                Wed, 26 May 2021   Pseudo R-squ.:                  0.1592\n",
            "Time:                        22:22:18   Log-Likelihood:                -5350.8\n",
            "converged:                       True   LL-Null:                       -6363.5\n",
            "Covariance Type:            nonrobust   LLR p-value:                     0.000\n",
            "==============================================================================\n",
            "                 coef    std err          z      P>|z|      [0.025      0.975]\n",
            "------------------------------------------------------------------------------\n",
            "Intercept     -0.0139      0.100     -0.139      0.890      -0.211       0.183\n",
            "a              1.0020      0.082     12.159      0.000       0.840       1.163\n",
            "b              3.0623      0.090     34.013      0.000       2.886       3.239\n",
            "c             -0.1862      0.082     -2.277      0.023      -0.346      -0.026\n",
            "d             -0.0405      0.082     -0.494      0.622      -0.201       0.120\n",
            "e             -0.0059      0.082     -0.072      0.943      -0.166       0.155\n",
            "f             -2.0332      0.085    -23.958      0.000      -2.200      -1.867\n",
            "==============================================================================\n"
          ],
          "name": "stdout"
        }
      ]
    },
    {
      "cell_type": "markdown",
      "metadata": {
        "id": "e0gLUdbH0lBf"
      },
      "source": [
        "The predicted propensity score is simply the probability prediction of the model made on the training set. Do not worry about the traiditional ML's insistence on the out-of-sample prediction in this case."
      ]
    },
    {
      "cell_type": "code",
      "metadata": {
        "id": "O5PyRL9orIyh"
      },
      "source": [
        "# produce the propensity score\n",
        "df['_score'] = ps_model.predict()"
      ],
      "execution_count": 8,
      "outputs": []
    },
    {
      "cell_type": "markdown",
      "metadata": {
        "id": "MgFL4kUHYEp0"
      },
      "source": [
        "### Pairing up from the Predictions\n",
        "\n",
        "I use the following algorithm to form matched paris. In the literature, this method is called the nearest neighbor with a caliper. It is a greedy algorithm. It iteratively forms pairs with the closest matches that are within a certain threshold (caliper) without replacement. You can also go for the optimal matching that minimizes the average distance within pairs, although studies (e.g., Gu and Rosenbaum, 1993) show their empirical performances are typically on par with each other. "
      ]
    },
    {
      "cell_type": "code",
      "metadata": {
        "id": "mK5oZwCNreCF"
      },
      "source": [
        "def match(\n",
        "    data: pd.DataFrame, \n",
        "    threshold: float = 0.001, \n",
        "    treatment_col: str = \"treatment\", \n",
        "    score_col: str = \"_score\"\n",
        ") -> pd.DataFrame:\n",
        "    \"\"\"\n",
        "    Finds a suitable pair for each record in the dataset, if one exists.\n",
        "    Records are excluded from the final matched dataset if there are no suitable matches.\n",
        "    \"\"\"\n",
        "    assert score_col in data.columns, \"Propensity Scores have not been calculated\"\n",
        "\n",
        "    pairs = {}\n",
        "    treated = data[data[treatment_col] == 1]\n",
        "    control = data[data[treatment_col] == 0]\n",
        "    # Because nearest neighbor matching is greedy,\n",
        "    # doing a random shuffle here to remove structures in the data (if any)\n",
        "    for index, score in treated[score_col].sample(frac=1).iteritems():\n",
        "        diff = (control[score_col] - score).abs().sort_values()\n",
        "        for candidate_index, delta in diff.iteritems():\n",
        "            # because diff is sorted, we can assure\n",
        "            # there's no valid pair if delta is larger than threshold\n",
        "            if delta > threshold:\n",
        "                break\n",
        "            # candidate has already formed a match\n",
        "            if candidate_index in pairs:\n",
        "                continue\n",
        "            pairs[candidate_index] = index\n",
        "\n",
        "    match_id = 0\n",
        "    for control_index, treated_index in pairs.items():\n",
        "        data.at[control_index, \"_match_id\"] = match_id\n",
        "        data.at[treated_index, \"_match_id\"] = match_id\n",
        "        match_id += 1\n",
        "    return data[data[\"_match_id\"].notnull()]"
      ],
      "execution_count": 9,
      "outputs": []
    },
    {
      "cell_type": "markdown",
      "metadata": {
        "id": "zCnu48vLYc5i"
      },
      "source": [
        "Let's take a peek of the post match data. The `_score` column is the predicted propensity score. As expected, it is close to the true score. The column `_match_id` is the id of the pair. Two rows that form a comparable pair in this dataframe share one id.\n",
        "\n",
        "Notice that the size of the matched sample is much smaller because we dropped all the single data points."
      ]
    },
    {
      "cell_type": "code",
      "metadata": {
        "colab": {
          "base_uri": "https://localhost:8080/",
          "height": 221
        },
        "id": "xILd856urjvg",
        "outputId": "fc93a01e-8ded-4c9d-907d-dc57830656d3"
      },
      "source": [
        "matched_df = match(df)\n",
        "print(f\"Size of the matched sample: {len(matched_df)}\")\n",
        "matched_df.head()"
      ],
      "execution_count": 10,
      "outputs": [
        {
          "output_type": "stream",
          "text": [
            "Size of the matched sample: 3874\n"
          ],
          "name": "stdout"
        },
        {
          "output_type": "execute_result",
          "data": {
            "text/html": [
              "<div>\n",
              "<style scoped>\n",
              "    .dataframe tbody tr th:only-of-type {\n",
              "        vertical-align: middle;\n",
              "    }\n",
              "\n",
              "    .dataframe tbody tr th {\n",
              "        vertical-align: top;\n",
              "    }\n",
              "\n",
              "    .dataframe thead th {\n",
              "        text-align: right;\n",
              "    }\n",
              "</style>\n",
              "<table border=\"1\" class=\"dataframe\">\n",
              "  <thead>\n",
              "    <tr style=\"text-align: right;\">\n",
              "      <th></th>\n",
              "      <th>a</th>\n",
              "      <th>b</th>\n",
              "      <th>c</th>\n",
              "      <th>d</th>\n",
              "      <th>e</th>\n",
              "      <th>f</th>\n",
              "      <th>true_ps</th>\n",
              "      <th>treatment</th>\n",
              "      <th>outcome</th>\n",
              "      <th>_score</th>\n",
              "      <th>_match_id</th>\n",
              "    </tr>\n",
              "  </thead>\n",
              "  <tbody>\n",
              "    <tr>\n",
              "      <th>0</th>\n",
              "      <td>0.548814</td>\n",
              "      <td>0.715189</td>\n",
              "      <td>0.602763</td>\n",
              "      <td>0.544883</td>\n",
              "      <td>0.423655</td>\n",
              "      <td>0.645894</td>\n",
              "      <td>0.782797</td>\n",
              "      <td>0</td>\n",
              "      <td>1.740649</td>\n",
              "      <td>0.781791</td>\n",
              "      <td>252.0</td>\n",
              "    </tr>\n",
              "    <tr>\n",
              "      <th>1</th>\n",
              "      <td>0.437587</td>\n",
              "      <td>0.891773</td>\n",
              "      <td>0.963663</td>\n",
              "      <td>0.383442</td>\n",
              "      <td>0.791725</td>\n",
              "      <td>0.528895</td>\n",
              "      <td>0.865575</td>\n",
              "      <td>0</td>\n",
              "      <td>0.953746</td>\n",
              "      <td>0.867669</td>\n",
              "      <td>1068.0</td>\n",
              "    </tr>\n",
              "    <tr>\n",
              "      <th>5</th>\n",
              "      <td>0.264556</td>\n",
              "      <td>0.774234</td>\n",
              "      <td>0.456150</td>\n",
              "      <td>0.568434</td>\n",
              "      <td>0.018790</td>\n",
              "      <td>0.617635</td>\n",
              "      <td>0.779156</td>\n",
              "      <td>0</td>\n",
              "      <td>2.227795</td>\n",
              "      <td>0.778735</td>\n",
              "      <td>1928.0</td>\n",
              "    </tr>\n",
              "    <tr>\n",
              "      <th>6</th>\n",
              "      <td>0.612096</td>\n",
              "      <td>0.616934</td>\n",
              "      <td>0.943748</td>\n",
              "      <td>0.681820</td>\n",
              "      <td>0.359508</td>\n",
              "      <td>0.437032</td>\n",
              "      <td>0.802197</td>\n",
              "      <td>1</td>\n",
              "      <td>-0.514348</td>\n",
              "      <td>0.801336</td>\n",
              "      <td>1570.0</td>\n",
              "    </tr>\n",
              "    <tr>\n",
              "      <th>7</th>\n",
              "      <td>0.697631</td>\n",
              "      <td>0.060225</td>\n",
              "      <td>0.666767</td>\n",
              "      <td>0.670638</td>\n",
              "      <td>0.210383</td>\n",
              "      <td>0.128926</td>\n",
              "      <td>0.619423</td>\n",
              "      <td>0</td>\n",
              "      <td>-0.018675</td>\n",
              "      <td>0.611799</td>\n",
              "      <td>2101.0</td>\n",
              "    </tr>\n",
              "  </tbody>\n",
              "</table>\n",
              "</div>"
            ],
            "text/plain": [
              "          a         b         c  ...   outcome    _score  _match_id\n",
              "0  0.548814  0.715189  0.602763  ...  1.740649  0.781791      252.0\n",
              "1  0.437587  0.891773  0.963663  ...  0.953746  0.867669     1068.0\n",
              "5  0.264556  0.774234  0.456150  ...  2.227795  0.778735     1928.0\n",
              "6  0.612096  0.616934  0.943748  ... -0.514348  0.801336     1570.0\n",
              "7  0.697631  0.060225  0.666767  ... -0.018675  0.611799     2101.0\n",
              "\n",
              "[5 rows x 11 columns]"
            ]
          },
          "metadata": {
            "tags": []
          },
          "execution_count": 10
        }
      ]
    },
    {
      "cell_type": "markdown",
      "metadata": {
        "id": "ubAPaDrXYgc-"
      },
      "source": [
        "On this matched sample, let's run the original regression again and see if the result is any different."
      ]
    },
    {
      "cell_type": "code",
      "metadata": {
        "colab": {
          "base_uri": "https://localhost:8080/",
          "height": 0
        },
        "id": "jI_B-oHzuNFe",
        "outputId": "9ee8e926-66db-40a9-f82f-d4fe58f522e2"
      },
      "source": [
        "print(smf.ols('outcome ~ treatment + a + b + c + d + e + f', data=matched_df).fit().summary())"
      ],
      "execution_count": 11,
      "outputs": [
        {
          "output_type": "stream",
          "text": [
            "                            OLS Regression Results                            \n",
            "==============================================================================\n",
            "Dep. Variable:                outcome   R-squared:                       0.521\n",
            "Model:                            OLS   Adj. R-squared:                  0.520\n",
            "Method:                 Least Squares   F-statistic:                     600.1\n",
            "Date:                Wed, 26 May 2021   Prob (F-statistic):               0.00\n",
            "Time:                        22:22:32   Log-Likelihood:                -6243.0\n",
            "No. Observations:                3874   AIC:                         1.250e+04\n",
            "Df Residuals:                    3866   BIC:                         1.255e+04\n",
            "Df Model:                           7                                         \n",
            "Covariance Type:            nonrobust                                         \n",
            "==============================================================================\n",
            "                 coef    std err          t      P>|t|      [0.025      0.975]\n",
            "------------------------------------------------------------------------------\n",
            "Intercept      0.1959      0.085      2.317      0.021       0.030       0.362\n",
            "treatment      0.0762      0.053      1.444      0.149      -0.027       0.180\n",
            "a              2.0837      0.068     30.429      0.000       1.949       2.218\n",
            "b              3.4247      0.076     45.274      0.000       3.276       3.573\n",
            "c             -2.5878      0.068    -38.013      0.000      -2.721      -2.454\n",
            "d             -0.0160      0.068     -0.237      0.813      -0.148       0.116\n",
            "e             -0.0231      0.068     -0.341      0.733      -0.156       0.110\n",
            "f             -0.1410      0.071     -1.995      0.046      -0.280      -0.002\n",
            "==============================================================================\n",
            "Omnibus:                      100.131   Durbin-Watson:                   2.037\n",
            "Prob(Omnibus):                  0.000   Jarque-Bera (JB):              138.731\n",
            "Skew:                           0.289   Prob(JB):                     7.50e-31\n",
            "Kurtosis:                       3.725   Cond. No.                         8.77\n",
            "==============================================================================\n",
            "\n",
            "Warnings:\n",
            "[1] Standard Errors assume that the covariance matrix of the errors is correctly specified.\n"
          ],
          "name": "stdout"
        }
      ]
    },
    {
      "cell_type": "markdown",
      "metadata": {
        "id": "adeezjVHYmQF"
      },
      "source": [
        "Look at the coefficient on the treatment. This time we correctly fail to reject the treatment effect being zero.\n",
        "\n",
        "This shows the effectiveness of propensity score matching."
      ]
    },
    {
      "cell_type": "markdown",
      "metadata": {
        "id": "6-myyJQrvKVP"
      },
      "source": [
        "## The Ignorability Assumption\n",
        "\n",
        "The ignorability (also known as unconfoundedness, conditional independence, or selection on observables) assumption means we have included all the features that affect both the outcome and the treatment assignment in our models. This is a tricky assumption because it is super duper important and yet very hard to test. You can check [this](https://arxiv.org/pdf/2012.15716.pdf) 80-page and full-of-math paper if you feel learning something. I'll give you a simple procedure to test this assumption using only `scikit-learn`. But before we do this, let me first emphasize its importance.\n",
        "\n",
        "### The Violation of the Ignorability Assumption\n",
        "\n",
        "Not all problems in data science are sensitive to assumptions. Therefore, maybe not all of your fellow data scientists are allergic to skipping tests on assumptions. How bad can it be if we fail to includes some features that affects the treatment assignment and the outcome? We lose 1% of model performance? Who cares? \n",
        "\n",
        "Well the answer is the estimated treatment effect can be biased. This bias can lead to qualitatively incorrect business decisions that might cost you millions.\n",
        "\n",
        "In the following simulation, let's not include `a` and `b` for some reason. From the data generating process, we know both of them are critical for the propensity and the outcome equations. Therefore, we're violating the ignorability assumption. Is this a big deal? Let's find out.\n",
        "\n",
        "We run the propensity score model, generate the propensity score prediction, and do the matching as usual."
      ]
    },
    {
      "cell_type": "code",
      "metadata": {
        "colab": {
          "base_uri": "https://localhost:8080/",
          "height": 0
        },
        "id": "HzDRgjCi1BYS",
        "outputId": "03dc59f7-12f1-4b96-fade-745e0b29e0d1"
      },
      "source": [
        "# The suffix `ov` means omitted variable bias.\n",
        "# The name comes from that we have omitted important variables.\n",
        "ps_model_ov = smf.logit('treatment ~ c + d + e + f', data=df).fit()\n",
        "print(ps_model_ov.summary())\n",
        "df['_score_ov'] = ps_model_ov.predict()"
      ],
      "execution_count": 12,
      "outputs": [
        {
          "output_type": "stream",
          "text": [
            "Optimization terminated successfully.\n",
            "         Current function value: 0.609952\n",
            "         Iterations 5\n",
            "                           Logit Regression Results                           \n",
            "==============================================================================\n",
            "Dep. Variable:              treatment   No. Observations:                10000\n",
            "Model:                          Logit   Df Residuals:                     9995\n",
            "Method:                           MLE   Df Model:                            4\n",
            "Date:                Wed, 26 May 2021   Pseudo R-squ.:                 0.04149\n",
            "Time:                        22:25:22   Log-Likelihood:                -6099.5\n",
            "converged:                       True   LL-Null:                       -6363.5\n",
            "Covariance Type:            nonrobust   LLR p-value:                5.868e-113\n",
            "==============================================================================\n",
            "                 coef    std err          z      P>|z|      [0.025      0.975]\n",
            "------------------------------------------------------------------------------\n",
            "Intercept      1.6560      0.081     20.360      0.000       1.497       1.815\n",
            "c             -0.1459      0.075     -1.935      0.053      -0.294       0.002\n",
            "d             -0.0230      0.075     -0.305      0.760      -0.171       0.125\n",
            "e              0.0525      0.076      0.695      0.487      -0.096       0.201\n",
            "f             -1.7271      0.077    -22.307      0.000      -1.879      -1.575\n",
            "==============================================================================\n"
          ],
          "name": "stdout"
        }
      ]
    },
    {
      "cell_type": "code",
      "metadata": {
        "colab": {
          "base_uri": "https://localhost:8080/",
          "height": 221
        },
        "id": "9UcGSCUV-4np",
        "outputId": "c191ea53-8bc9-4b64-b6d6-7d9f8eacf6c4"
      },
      "source": [
        "matched_df_ov = match(df, score_col=\"_score_ov\")\n",
        "print(f\"Size of the matched sample: {len(matched_df_ov)}\")\n",
        "matched_df_ov.head()"
      ],
      "execution_count": 13,
      "outputs": [
        {
          "output_type": "stream",
          "text": [
            "Size of the matched sample: 4263\n"
          ],
          "name": "stdout"
        },
        {
          "output_type": "execute_result",
          "data": {
            "text/html": [
              "<div>\n",
              "<style scoped>\n",
              "    .dataframe tbody tr th:only-of-type {\n",
              "        vertical-align: middle;\n",
              "    }\n",
              "\n",
              "    .dataframe tbody tr th {\n",
              "        vertical-align: top;\n",
              "    }\n",
              "\n",
              "    .dataframe thead th {\n",
              "        text-align: right;\n",
              "    }\n",
              "</style>\n",
              "<table border=\"1\" class=\"dataframe\">\n",
              "  <thead>\n",
              "    <tr style=\"text-align: right;\">\n",
              "      <th></th>\n",
              "      <th>a</th>\n",
              "      <th>b</th>\n",
              "      <th>c</th>\n",
              "      <th>d</th>\n",
              "      <th>e</th>\n",
              "      <th>f</th>\n",
              "      <th>true_ps</th>\n",
              "      <th>treatment</th>\n",
              "      <th>outcome</th>\n",
              "      <th>_score</th>\n",
              "      <th>_match_id</th>\n",
              "      <th>_score_ov</th>\n",
              "    </tr>\n",
              "  </thead>\n",
              "  <tbody>\n",
              "    <tr>\n",
              "      <th>0</th>\n",
              "      <td>0.548814</td>\n",
              "      <td>0.715189</td>\n",
              "      <td>0.602763</td>\n",
              "      <td>0.544883</td>\n",
              "      <td>0.423655</td>\n",
              "      <td>0.645894</td>\n",
              "      <td>0.782797</td>\n",
              "      <td>0</td>\n",
              "      <td>1.740649</td>\n",
              "      <td>0.781791</td>\n",
              "      <td>1585.0</td>\n",
              "      <td>0.613539</td>\n",
              "    </tr>\n",
              "    <tr>\n",
              "      <th>1</th>\n",
              "      <td>0.437587</td>\n",
              "      <td>0.891773</td>\n",
              "      <td>0.963663</td>\n",
              "      <td>0.383442</td>\n",
              "      <td>0.791725</td>\n",
              "      <td>0.528895</td>\n",
              "      <td>0.865575</td>\n",
              "      <td>0</td>\n",
              "      <td>0.953746</td>\n",
              "      <td>0.867669</td>\n",
              "      <td>2688.0</td>\n",
              "      <td>0.653544</td>\n",
              "    </tr>\n",
              "    <tr>\n",
              "      <th>5</th>\n",
              "      <td>0.264556</td>\n",
              "      <td>0.774234</td>\n",
              "      <td>0.456150</td>\n",
              "      <td>0.568434</td>\n",
              "      <td>0.018790</td>\n",
              "      <td>0.617635</td>\n",
              "      <td>0.779156</td>\n",
              "      <td>0</td>\n",
              "      <td>2.227795</td>\n",
              "      <td>0.778735</td>\n",
              "      <td>2079.0</td>\n",
              "      <td>0.624952</td>\n",
              "    </tr>\n",
              "    <tr>\n",
              "      <th>6</th>\n",
              "      <td>0.612096</td>\n",
              "      <td>0.616934</td>\n",
              "      <td>0.943748</td>\n",
              "      <td>0.681820</td>\n",
              "      <td>0.359508</td>\n",
              "      <td>0.437032</td>\n",
              "      <td>0.802197</td>\n",
              "      <td>1</td>\n",
              "      <td>-0.514348</td>\n",
              "      <td>0.801336</td>\n",
              "      <td>1570.0</td>\n",
              "      <td>0.682797</td>\n",
              "    </tr>\n",
              "    <tr>\n",
              "      <th>7</th>\n",
              "      <td>0.697631</td>\n",
              "      <td>0.060225</td>\n",
              "      <td>0.666767</td>\n",
              "      <td>0.670638</td>\n",
              "      <td>0.210383</td>\n",
              "      <td>0.128926</td>\n",
              "      <td>0.619423</td>\n",
              "      <td>0</td>\n",
              "      <td>-0.018675</td>\n",
              "      <td>0.611799</td>\n",
              "      <td>1596.0</td>\n",
              "      <td>0.791112</td>\n",
              "    </tr>\n",
              "  </tbody>\n",
              "</table>\n",
              "</div>"
            ],
            "text/plain": [
              "          a         b         c  ...    _score  _match_id  _score_ov\n",
              "0  0.548814  0.715189  0.602763  ...  0.781791     1585.0   0.613539\n",
              "1  0.437587  0.891773  0.963663  ...  0.867669     2688.0   0.653544\n",
              "5  0.264556  0.774234  0.456150  ...  0.778735     2079.0   0.624952\n",
              "6  0.612096  0.616934  0.943748  ...  0.801336     1570.0   0.682797\n",
              "7  0.697631  0.060225  0.666767  ...  0.611799     1596.0   0.791112\n",
              "\n",
              "[5 rows x 12 columns]"
            ]
          },
          "metadata": {
            "tags": []
          },
          "execution_count": 13
        }
      ]
    },
    {
      "cell_type": "markdown",
      "metadata": {
        "id": "_nHGnC3dj_vE"
      },
      "source": [
        "Then, same as before, we run the outcome regression with the matched data."
      ]
    },
    {
      "cell_type": "code",
      "metadata": {
        "colab": {
          "base_uri": "https://localhost:8080/",
          "height": 0
        },
        "id": "yVvBBMGB_EGj",
        "outputId": "feaa4216-ead5-4a1f-fa7e-798b9dae2ef2"
      },
      "source": [
        "print(smf.ols('outcome ~ treatment + c + d + e + f', data=matched_df_ov).fit().summary())"
      ],
      "execution_count": 14,
      "outputs": [
        {
          "output_type": "stream",
          "text": [
            "                            OLS Regression Results                            \n",
            "==============================================================================\n",
            "Dep. Variable:                outcome   R-squared:                       0.180\n",
            "Model:                            OLS   Adj. R-squared:                  0.179\n",
            "Method:                 Least Squares   F-statistic:                     186.6\n",
            "Date:                Wed, 26 May 2021   Prob (F-statistic):          3.97e-180\n",
            "Time:                        22:25:28   Log-Likelihood:                -8203.2\n",
            "No. Observations:                4263   AIC:                         1.642e+04\n",
            "Df Residuals:                    4257   BIC:                         1.646e+04\n",
            "Df Model:                           5                                         \n",
            "Covariance Type:            nonrobust                                         \n",
            "==============================================================================\n",
            "                 coef    std err          t      P>|t|      [0.025      0.975]\n",
            "------------------------------------------------------------------------------\n",
            "Intercept      2.1580      0.098     21.935      0.000       1.965       2.351\n",
            "treatment      0.4995      0.062      8.113      0.000       0.379       0.620\n",
            "c             -2.5941      0.089    -29.264      0.000      -2.768      -2.420\n",
            "d             -0.0761      0.088     -0.864      0.387      -0.249       0.096\n",
            "e             -0.0179      0.088     -0.203      0.839      -0.191       0.155\n",
            "f              0.2640      0.091      2.909      0.004       0.086       0.442\n",
            "==============================================================================\n",
            "Omnibus:                      844.598   Durbin-Watson:                   2.022\n",
            "Prob(Omnibus):                  0.000   Jarque-Bera (JB):             1930.787\n",
            "Skew:                           1.120   Prob(JB):                         0.00\n",
            "Kurtosis:                       5.420   Cond. No.                         7.68\n",
            "==============================================================================\n",
            "\n",
            "Warnings:\n",
            "[1] Standard Errors assume that the covariance matrix of the errors is correctly specified.\n"
          ],
          "name": "stdout"
        }
      ]
    },
    {
      "cell_type": "markdown",
      "metadata": {
        "id": "zAp2_vw-AxuA"
      },
      "source": [
        "The model attributes `0.5` to the treatment (and this number is statistically significant in all conventional significance levels). If we were to make business decisions based on this analysis, we would reach a false conclusion and potentially lose a lot.\n",
        "\n",
        "Why we end up with `0.5` on the treatment's coefficient? Because `a` and `b` are important to the outcome and yet we do not include them, the regression tries to attribute some of their effects on the treatment label, which is correlated with `a` and `b`.\n",
        "\n",
        "In summary, we violate the ignorability assumption and the estimated treatment effect can be much biased. "
      ]
    },
    {
      "cell_type": "markdown",
      "metadata": {
        "id": "nFcxqpmqvFDD"
      },
      "source": [
        "## How do we test ignorability?\n",
        "\n",
        "Now we know we should really treat the ignorability seriously. But how do we know if we meet this assumption or not?\n",
        "\n",
        "At first sight, the ignorability assumption is difficult to test: How do you test if you have included enough relevant features?\n",
        "\n",
        "To achieve this, we need to utilize the residuals. For any model, residuals contain information that cannot be attributed to the included features. In other words, residuals summarizes the unobserved features that would be relevant to the model if they were included. \n",
        "\n",
        "To perform tests on the ignorability assumption, we need to build the outcome model as well. If the ignorability assumption holds, then we should expect the residuals of the propensity model and the outcome model are independent because we have already included features that are critical to both. Conversely, we know we have missed something important.\n",
        "\n",
        "For the informed readers, the idea is inspired by the Heckman selection model. \n",
        "\n",
        "Let's code it up and put this idea into test."
      ]
    },
    {
      "cell_type": "markdown",
      "metadata": {
        "id": "TM0G0SbVornA"
      },
      "source": [
        "Because the data generating process for the outcome is nonlinear, we need a model that can capture a flexible functional form. Here I choose LightGBM simply because I'm currently playing with LightGBM. You should feel free to choose others (e.g., XGBoost) as long as they can capture complex nonlinear relationships."
      ]
    },
    {
      "cell_type": "code",
      "metadata": {
        "id": "6FWWjyk_wpba"
      },
      "source": [
        "def train_lightgbm_model(\n",
        "    params: Dict[str, Union[str, float]], \n",
        "    lgb_dataset: lgb.DataSet, \n",
        "    num_boost_round: int = 0\n",
        ") -> lgb.Booster:\n",
        "    \"\"\"\n",
        "    Train a lightgbm model.\n",
        "\n",
        "    When num_boost_round <= 0, use cv to find the optimal num_boost_round.\n",
        "    \"\"\"\n",
        "    # lightgbm sets stratified = True by default \n",
        "    # but we need to set it to False for regression\n",
        "    stratified = True if params.get(\"objective\") == \"binary\" else False\n",
        "\n",
        "    if num_boost_round <= 0:\n",
        "        cv_result = lgb.cv(\n",
        "            params=params,\n",
        "            train_set=lgb_dataset,\n",
        "            early_stopping_rounds=50,\n",
        "            return_cvbooster=True,\n",
        "            stratified=stratified,\n",
        "        )\n",
        "        num_boost_round = cv_result[\"cvbooster\"].best_iteration\n",
        "\n",
        "    return lgb.train(\n",
        "        params=params,\n",
        "        train_set=lgb_dataset,\n",
        "        num_boost_round=num_boost_round,\n",
        "    )"
      ],
      "execution_count": null,
      "outputs": []
    },
    {
      "cell_type": "code",
      "metadata": {
        "colab": {
          "base_uri": "https://localhost:8080/"
        },
        "id": "fctoI82fuUiu",
        "outputId": "6f05dcde-0eae-4209-f2e7-8e4c2ca4fa81"
      },
      "source": [
        "outcome_model = train_lightgbm_model(\n",
        "    params={\"objective\": \"regression\", \"metric\": \"rmse\"},\n",
        "    lgb_dataset=lgb.Dataset(\n",
        "        data=df[list('abcdef') + ['treatment']],\n",
        "        label=df['outcome'],\n",
        "    )\n",
        ")"
      ],
      "execution_count": null,
      "outputs": [
        {
          "output_type": "stream",
          "text": [
            "[LightGBM] [Warning] Auto-choosing col-wise multi-threading, the overhead of testing was 0.000657 seconds.\n",
            "You can set `force_col_wise=true` to remove the overhead.\n",
            "[LightGBM] [Info] Total Bins 1532\n",
            "[LightGBM] [Info] Number of data points in the train set: 8000, number of used features: 7\n",
            "[LightGBM] [Warning] Auto-choosing col-wise multi-threading, the overhead of testing was 0.000644 seconds.\n",
            "You can set `force_col_wise=true` to remove the overhead.\n",
            "[LightGBM] [Info] Total Bins 1532\n",
            "[LightGBM] [Info] Number of data points in the train set: 8000, number of used features: 7\n",
            "[LightGBM] [Warning] Auto-choosing col-wise multi-threading, the overhead of testing was 0.000660 seconds.\n",
            "You can set `force_col_wise=true` to remove the overhead.\n",
            "[LightGBM] [Info] Total Bins 1532\n",
            "[LightGBM] [Info] Number of data points in the train set: 8000, number of used features: 7\n",
            "[LightGBM] [Warning] Auto-choosing col-wise multi-threading, the overhead of testing was 0.000788 seconds.\n",
            "You can set `force_col_wise=true` to remove the overhead.\n",
            "[LightGBM] [Info] Total Bins 1532\n",
            "[LightGBM] [Info] Number of data points in the train set: 8000, number of used features: 7\n",
            "[LightGBM] [Warning] Auto-choosing col-wise multi-threading, the overhead of testing was 0.000647 seconds.\n",
            "You can set `force_col_wise=true` to remove the overhead.\n",
            "[LightGBM] [Info] Total Bins 1532\n",
            "[LightGBM] [Info] Number of data points in the train set: 8000, number of used features: 7\n",
            "[LightGBM] [Info] Start training from score 1.607904\n",
            "[LightGBM] [Info] Start training from score 1.599201\n",
            "[LightGBM] [Info] Start training from score 1.611963\n",
            "[LightGBM] [Info] Start training from score 1.619784\n",
            "[LightGBM] [Info] Start training from score 1.623819\n",
            "[LightGBM] [Warning] Auto-choosing col-wise multi-threading, the overhead of testing was 0.000990 seconds.\n",
            "You can set `force_col_wise=true` to remove the overhead.\n",
            "[LightGBM] [Info] Total Bins 1532\n",
            "[LightGBM] [Info] Number of data points in the train set: 10000, number of used features: 7\n",
            "[LightGBM] [Info] Start training from score 1.612534\n"
          ],
          "name": "stdout"
        }
      ]
    },
    {
      "cell_type": "markdown",
      "metadata": {
        "id": "td2NJ2lIpsPJ"
      },
      "source": [
        "With the outcome model, let's compute residuals from two models."
      ]
    },
    {
      "cell_type": "code",
      "metadata": {
        "id": "g5VRM5GfzJkS"
      },
      "source": [
        "df[\"_outcome_prediction\"] = outcome_model.predict(df[list('abcdef') + ['treatment']])\n",
        "df[\"outcome_residuals\"] = df[\"outcome\"] - df[\"_outcome_prediction\"]\n",
        "df[\"propensity_residuals\"] = df[\"treatment\"] - df[\"_score\"]"
      ],
      "execution_count": null,
      "outputs": []
    },
    {
      "cell_type": "markdown",
      "metadata": {
        "id": "aRNlOlz6pxi5"
      },
      "source": [
        "Here is a scatter plot of the two sets of residuals."
      ]
    },
    {
      "cell_type": "code",
      "metadata": {
        "colab": {
          "base_uri": "https://localhost:8080/",
          "height": 297
        },
        "id": "gmy0VYaRzwHC",
        "outputId": "a93b1c91-c57a-41df-9fbb-4878d0f709ea"
      },
      "source": [
        "sns.scatterplot(data=df, x=\"propensity_residuals\", y=\"outcome_residuals\")"
      ],
      "execution_count": null,
      "outputs": [
        {
          "output_type": "execute_result",
          "data": {
            "text/plain": [
              "<matplotlib.axes._subplots.AxesSubplot at 0x7f1ed23cb3d0>"
            ]
          },
          "metadata": {
            "tags": []
          },
          "execution_count": 16
        },
        {
          "output_type": "display_data",
          "data": {
            "image/png": "[encoded data removed]",
            "text/plain": [
              "<Figure size 432x288 with 1 Axes>"
            ]
          },
          "metadata": {
            "tags": [],
            "needs_background": "light"
          }
        }
      ]
    },
    {
      "cell_type": "markdown",
      "metadata": {
        "id": "kn7spY6KqFa7"
      },
      "source": [
        "From the picture it is hard to tell if there is any relationship. Can we have some numbers?\n",
        "\n",
        "It turns out we have an established measure on the dependence between two random variables in information theory. This measure is called [mutual information](https://en.wikipedia.org/wiki/Mutual_information) (MI). If two random variables are independent, then their MI is equal to 0. Otherwise it will be above 0.\n",
        "\n",
        "Its sample counterpart is a statistics that measures the dependence of two random samples. `scikit-learn` has an [implementation](https://scikit-learn.org/stable/modules/generated/sklearn.feature_selection.mutual_info_regression.html) under its `feature_selection` module (yes the intended way to use it is to do feature selection, feel free to explore this usage). "
      ]
    },
    {
      "cell_type": "markdown",
      "metadata": {
        "id": "4NREyT8MvM2K"
      },
      "source": [
        "I use the following code snippet to compute MI. It is light wrapper of `mutual_info_regression` that ensures the input has the desired shape and the output is a scalar."
      ]
    },
    {
      "cell_type": "code",
      "metadata": {
        "id": "Jje1U2Ffz3RO"
      },
      "source": [
        "def compute_mutual_info(\n",
        "    propensity_residuals: pd.Series, outcome_residuals: pd.Series\n",
        ") -> float:\n",
        "    mutual_info = mutual_info_regression(\n",
        "        X=propensity_residuals.values.reshape(-1, 1),\n",
        "        y=outcome_residuals,\n",
        "    )\n",
        "    return mutual_info.item()"
      ],
      "execution_count": null,
      "outputs": []
    },
    {
      "cell_type": "code",
      "metadata": {
        "id": "BYTN-xcC0DmV"
      },
      "source": [
        "mutual_info = compute_mutual_info(df[\"propensity_residuals\"], df[\"outcome_residuals\"])"
      ],
      "execution_count": null,
      "outputs": []
    },
    {
      "cell_type": "markdown",
      "metadata": {
        "id": "beBc7Bn2s70q"
      },
      "source": [
        "Unfortunately, the distribution of the sample MI is unclear (Hutter 2002 has a Bayesian posterior derivation, but its frequentist derivation to my knowledge does not exist yet). But, under the null hypothesis, it is very easy to bootstrap its distribution and compute the p value.\n",
        "\n",
        "The idea of the bootstrap is quite simple. Under the null hypothesis, the two residuals are independent. So, any re-sample should not change the statistical behavior of the two residual samples. Re-sample, on the other hand, guarantees independence. So conversely if the two sets of residuals are not independent, then the original MI will be quite different from the re-smampled MI.\n",
        "\n",
        "The code snippet for bootstrapping MI is given as follows."
      ]
    },
    {
      "cell_type": "code",
      "metadata": {
        "id": "WvvCCWm30bKe"
      },
      "source": [
        "def bootstrap_mi(\n",
        "    propensity_residuals: pd.Series, \n",
        "    outcome_residuals: pd.Series, \n",
        "    mutual_info: float,\n",
        ") -> Tuple[float, np.array]:\n",
        "    bootstrapped_mi = []\n",
        "    for _ in range(1000):\n",
        "        bootstrapped_mi.append(\n",
        "            get_mutual_info(\n",
        "                propensity_residuals.sample(frac=1, replace=True),\n",
        "                outcome_residuals.sample(frac=1, replace=True),\n",
        "            )\n",
        "        )\n",
        "    bootstrapped_mi = np.array(bootstrapped_mi)\n",
        "    p_value = np.sum(bootstrapped_mi > mutual_info) / len(bootstrapped_mi)\n",
        "    return p_value, bootstrapped_mi"
      ],
      "execution_count": null,
      "outputs": []
    },
    {
      "cell_type": "markdown",
      "metadata": {
        "id": "1ALrMQigtxio"
      },
      "source": [
        "Let's try it on the models that satisfy the ignorability assumption."
      ]
    },
    {
      "cell_type": "code",
      "metadata": {
        "colab": {
          "base_uri": "https://localhost:8080/"
        },
        "id": "D_HlGYUc0wtB",
        "outputId": "cf228983-318f-4dca-bf38-b093ff497824"
      },
      "source": [
        "p_value, _ = bootstrap_mi(df[\"propensity_residuals\"], df[\"outcome_residuals\"], mutual_info)\n",
        "print((mutual_info, p_value))"
      ],
      "execution_count": null,
      "outputs": [
        {
          "output_type": "stream",
          "text": [
            "(0, 0.498)\n"
          ],
          "name": "stdout"
        }
      ]
    },
    {
      "cell_type": "markdown",
      "metadata": {
        "id": "BwJ-1XHO4zGm"
      },
      "source": [
        "As expected, the sample MI of the two residuals is close to zero and the p value is also safely above 0. \n",
        "\n",
        "What if we have ommitted variables? Let's try the residuals that come from the wrong models."
      ]
    },
    {
      "cell_type": "code",
      "metadata": {
        "colab": {
          "base_uri": "https://localhost:8080/"
        },
        "id": "8_j6I5gf5sto",
        "outputId": "07f77d5a-d070-468b-823f-9c5e83950147"
      },
      "source": [
        "outcome_model_ov = train_lightgbm_model(\n",
        "    params={\"objective\": \"regression\", \"metric\": \"rmse\"},\n",
        "    lgb_dataset=lgb.Dataset(\n",
        "        data=df[list('cdef') + ['treatment']],\n",
        "        label=df['outcome'],\n",
        "    )\n",
        ")"
      ],
      "execution_count": null,
      "outputs": [
        {
          "output_type": "stream",
          "text": [
            "[LightGBM] [Warning] Auto-choosing col-wise multi-threading, the overhead of testing was 0.002669 seconds.\n",
            "You can set `force_col_wise=true` to remove the overhead.\n",
            "[LightGBM] [Info] Total Bins 1022\n",
            "[LightGBM] [Info] Number of data points in the train set: 8000, number of used features: 5\n",
            "[LightGBM] [Warning] Auto-choosing col-wise multi-threading, the overhead of testing was 0.000485 seconds.\n",
            "You can set `force_col_wise=true` to remove the overhead.\n",
            "[LightGBM] [Info] Total Bins 1022\n",
            "[LightGBM] [Info] Number of data points in the train set: 8000, number of used features: 5\n",
            "[LightGBM] [Warning] Auto-choosing col-wise multi-threading, the overhead of testing was 0.000472 seconds.\n",
            "You can set `force_col_wise=true` to remove the overhead.\n",
            "[LightGBM] [Info] Total Bins 1022\n",
            "[LightGBM] [Info] Number of data points in the train set: 8000, number of used features: 5\n",
            "[LightGBM] [Warning] Auto-choosing col-wise multi-threading, the overhead of testing was 0.000470 seconds.\n",
            "You can set `force_col_wise=true` to remove the overhead.\n",
            "[LightGBM] [Info] Total Bins 1022\n",
            "[LightGBM] [Info] Number of data points in the train set: 8000, number of used features: 5\n",
            "[LightGBM] [Warning] Auto-choosing col-wise multi-threading, the overhead of testing was 0.000474 seconds.\n",
            "You can set `force_col_wise=true` to remove the overhead.\n",
            "[LightGBM] [Info] Total Bins 1022\n",
            "[LightGBM] [Info] Number of data points in the train set: 8000, number of used features: 5\n",
            "[LightGBM] [Info] Start training from score 1.607904\n",
            "[LightGBM] [Info] Start training from score 1.599201\n",
            "[LightGBM] [Info] Start training from score 1.611963\n",
            "[LightGBM] [Info] Start training from score 1.619784\n",
            "[LightGBM] [Info] Start training from score 1.623819\n",
            "[LightGBM] [Warning] Auto-choosing col-wise multi-threading, the overhead of testing was 0.000758 seconds.\n",
            "You can set `force_col_wise=true` to remove the overhead.\n",
            "[LightGBM] [Info] Total Bins 1022\n",
            "[LightGBM] [Info] Number of data points in the train set: 10000, number of used features: 5\n",
            "[LightGBM] [Info] Start training from score 1.612534\n"
          ],
          "name": "stdout"
        }
      ]
    },
    {
      "cell_type": "code",
      "metadata": {
        "id": "ghCJSzoY8PdQ"
      },
      "source": [
        "df[\"_outcome_prediction_ov\"] = outcome_model_ov.predict(df[list('cdef') + ['treatment']])\n",
        "df[\"outcome_residuals_ov\"] = df[\"outcome\"] - df[\"_outcome_prediction_ov\"]\n",
        "df[\"propensity_residuals_ov\"] = df[\"treatment\"] - df[\"_score_ov\"]"
      ],
      "execution_count": null,
      "outputs": []
    },
    {
      "cell_type": "code",
      "metadata": {
        "colab": {
          "base_uri": "https://localhost:8080/",
          "height": 297
        },
        "id": "btPPRoY88cfB",
        "outputId": "f8650a0f-71cd-462e-8d81-b1a82778d410"
      },
      "source": [
        "sns.scatterplot(data=df, x=\"propensity_residuals_ov\", y=\"outcome_residuals_ov\")"
      ],
      "execution_count": null,
      "outputs": [
        {
          "output_type": "execute_result",
          "data": {
            "text/plain": [
              "<matplotlib.axes._subplots.AxesSubplot at 0x7f1ed2c4d250>"
            ]
          },
          "metadata": {
            "tags": []
          },
          "execution_count": 26
        },
        {
          "output_type": "display_data",
          "data": {
            "image/png": "[encoded data removed]",
            "text/plain": [
              "<Figure size 432x288 with 1 Axes>"
            ]
          },
          "metadata": {
            "tags": [],
            "needs_background": "light"
          }
        }
      ]
    },
    {
      "cell_type": "markdown",
      "metadata": {
        "id": "13PgIcQuugOi"
      },
      "source": [
        "It is still hard to decipher the scatterplot. Let's compute the MI and do the bootstrap."
      ]
    },
    {
      "cell_type": "code",
      "metadata": {
        "colab": {
          "base_uri": "https://localhost:8080/"
        },
        "id": "31Qai5QU8s7J",
        "outputId": "479a11eb-dec2-4c15-a869-355c7cc40a24"
      },
      "source": [
        "mutual_info_ov = get_mutual_info(df[\"propensity_residuals_ov\"], df[\"outcome_residuals_ov\"])\n",
        "p_value_ov, _ = bootstrap_mi(df[\"propensity_residuals_ov\"], df[\"outcome_residuals_ov\"], mutual_info_ov)\n",
        "print((mutual_info_ov, p_value_ov))"
      ],
      "execution_count": null,
      "outputs": [
        {
          "output_type": "stream",
          "text": [
            "(0.019752510285854896, 0.003)\n"
          ],
          "name": "stdout"
        }
      ]
    },
    {
      "cell_type": "markdown",
      "metadata": {
        "id": "qnSagF9l9juE"
      },
      "source": [
        "Compared to the case with no omitted variable, here the MI is much higher and the p value is close 0. We reject the null that there is no omitted variable."
      ]
    },
    {
      "cell_type": "markdown",
      "metadata": {
        "id": "qoV7pHaL3XRX"
      },
      "source": [
        "## Summary\n",
        "\n",
        "TBD\n"
      ]
    },
    {
      "cell_type": "markdown",
      "metadata": {
        "id": "gNOlm3hkrcOk"
      },
      "source": [
        "## References\n",
        "\n",
        "Gu, Xing Sam, and Paul R. Rosenbaum. \"Comparison of multivariate matching methods: Structures, distances, and algorithms.\" Journal of Computational and Graphical Statistics 2.4 (1993): 405-420.\n",
        "\n",
        "Hutter, Marcus. \"Distribution of mutual information.\" Advances in neural information processing systems 1 (2002): 399-406.\n",
        "\n",
        "Masten, Matthew A., Alexandre Poirier, and Linqi Zhang. \"Assessing Sensitivity to Unconfoundedness: Estimation and Inference.\" arXiv preprint arXiv:2012.15716 (2020)."
      ]
    },
    {
      "cell_type": "code",
      "metadata": {
        "id": "oSryZ8SI8thR"
      },
      "source": [
        ""
      ],
      "execution_count": null,
      "outputs": []
    }
  ]
}