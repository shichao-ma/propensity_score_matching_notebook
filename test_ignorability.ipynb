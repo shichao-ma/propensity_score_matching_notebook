{
  "nbformat": 4,
  "nbformat_minor": 0,
  "metadata": {
    "colab": {
      "name": "test-ignorability.ipynb",
      "provenance": [],
      "collapsed_sections": [],
      "toc_visible": true
    },
    "kernelspec": {
      "name": "python3",
      "display_name": "Python 3"
    },
    "language_info": {
      "name": "python"
    }
  },
  "cells": [
    {
      "cell_type": "markdown",
      "metadata": {
        "id": "4r-qBr9nBfQK"
      },
      "source": [
        "# Propensity Score Matching: A Practitioner's Appendium\n",
        "\n",
        "\n",
        "## TL;DR\n",
        "This article discusses the usage and a common pitfall of the Propensity Score Matching (PSM) from a working data scientist's perspective in the language that (hopefully) is accessible to most data scientists.\n",
        "\n",
        "1. In a simulation exercise, I show PSM can be used to remove functional form dependence.\n",
        "1. The key assumption in matching is the ignorability assumption. You will see why you want to make sure this assumption holds.\n",
        "1. You will find a user-friendly way to test the ignorability assumption.\n",
        "1. Code snippets using Python libraries that are familiar to most data scientists are provided.\n",
        "\n",
        "\n",
        "## Introduction\n",
        "\n",
        "It is well known to data scientists that “correlation does not imply causation.” For example, let’s consider a hypothetical situation where a hospital is considering promoting either of the following doctors (I’m sure in reality hospitals do not work this way). One candidate typically ends up with patients that either died or still had ongoing conditions when they left the hospital while the other candidate’s patients mostly fully recovered from their illness. Does this comparison mean the former is incompetent? \n",
        "\n",
        "On the contrary, it is possible the former is far more competent. For various reasons, good doctors work with tricky cases more often and tricky cases are tricky to work with even for the best doctors. This is called the selection effect.\n",
        "\n",
        "Selection effect can mute or, in extreme cases like the one above, completely opposite the correlation from causation. Unfortunately, the selection effect is everywhere in human activities. Tech sector is no exception. For instance, hosts that display more photos on Airbnb might have more bookings. But this mere correlation does not imply actionable interventions unless you can establish causation. Encourage hosts of horrible places to upload more photos of their horrible places? Good luck with that.\n",
        "\n",
        "Then how to establish the causation that a good doctor *is* good? To do so, one way is to figure out factors that influence the “trickiness” of an illness and control them in your analysis. Let’s call it controlling confounders. Another way is to find a subset of patients from the two doctors’ patient pools that are similar in their severity before they are admitted and do the comparison only on this subset. The latter is known as the matching method. \n",
        "\n",
        "In the rest of this article, I will first introduce a popular matching method called propensity score matching (PSM), which I think is the most feasible matching method when you work with large datasets in the tech sector. Then I will walk you through the reasons why you want to choose the PSM over controlling confounders. Lastly, I will highlight to you a super duper important assumption of PSM and give you a simple way to test it.\n",
        "\n",
        "\n",
        "### A Note on the Terminology\n",
        "\n",
        "We have three important terms in this article that are typically unseen in predictive modeling exercises.\n",
        "\n",
        "- Treatment: intervention, the item that is different from the status quo you're contemplating to apply. I will use its verb variants like \"treat\" or \"treated\" to describe applying the intervention to a certain population. In this article, I will only discuss the situation where the treatment is binary. That is, we have one intervention and one status quo, the typical A/B case.\n",
        "- Propensity score, or simply propensity: the probability of being treated. The reason I insist on using this \"foreign\" term is that it will be easier for you to find relevant literature should you decide to read on.\n",
        "- Outcome: the metric you care about, typically your primary business metric that you're hoping to optimize.\n",
        "\n",
        "For folks that are more familiar with the A/B experiment, treatment means the new item you're testing against the status quo; propensity means the probability of a subject receiving the new item; and outcome is your experiment's primary metric. Unlike the A/B experiment, we're working with the case where the treatment/intervention is not completely randomly assigned."
      ]
    },
    {
      "cell_type": "code",
      "metadata": {
        "colab": {
          "base_uri": "https://localhost:8080/"
        },
        "id": "UxqeukQGwwtk",
        "outputId": "b34da3fa-091b-475b-8cd8-de44f67b306c"
      },
      "source": [
        "# As of writing, Google's colab has an older version of lightgbm, \n",
        "# which is not compatible with the outcome model's code\n",
        "!pip uninstall -y lightgbm\n",
        "!pip install lightgbm"
      ],
      "execution_count": null,
      "outputs": [
        {
          "output_type": "stream",
          "text": [
            "Uninstalling lightgbm-2.2.3:\n",
            "  Successfully uninstalled lightgbm-2.2.3\n",
            "Collecting lightgbm\n",
            "\u001b[?25l  Downloading https://files.pythonhosted.org/packages/18/b2/fff8370f48549ce223f929fe8cab4ee6bf285a41f86037d91312b48ed95b/lightgbm-3.2.1-py3-none-manylinux1_x86_64.whl (2.0MB)\n",
            "\u001b[K     |████████████████████████████████| 2.0MB 7.5MB/s \n",
            "\u001b[?25hRequirement already satisfied: scipy in /usr/local/lib/python3.7/dist-packages (from lightgbm) (1.4.1)\n",
            "Requirement already satisfied: numpy in /usr/local/lib/python3.7/dist-packages (from lightgbm) (1.19.5)\n",
            "Requirement already satisfied: wheel in /usr/local/lib/python3.7/dist-packages (from lightgbm) (0.36.2)\n",
            "Requirement already satisfied: scikit-learn!=0.22.0 in /usr/local/lib/python3.7/dist-packages (from lightgbm) (0.22.2.post1)\n",
            "Requirement already satisfied: joblib>=0.11 in /usr/local/lib/python3.7/dist-packages (from scikit-learn!=0.22.0->lightgbm) (1.0.1)\n",
            "Installing collected packages: lightgbm\n",
            "Successfully installed lightgbm-3.2.1\n"
          ],
          "name": "stdout"
        }
      ]
    },
    {
      "cell_type": "markdown",
      "metadata": {
        "id": "3UTAhTqJmeXn"
      },
      "source": [
        "### Data Generation\n",
        "\n",
        "Let's consider a hypothetical situation where you have a binary treatment, a continuous outcome, several features that may or may not be important to the propensity or the outcome. Let's generate some simulation data to match this situation. The reason we're working with the generated data is that we can control the data generating process so that we will have a truth to compare against."
      ]
    },
    {
      "cell_type": "code",
      "metadata": {
        "colab": {
          "base_uri": "https://localhost:8080/",
          "height": 204
        },
        "id": "9xX6LznulWXf",
        "outputId": "bbf4e3fb-2816-49ea-9dd2-2889a38810d5"
      },
      "source": [
        "import pandas as pd\n",
        "import numpy as np\n",
        "from scipy.stats import bernoulli\n",
        "from scipy.special import expit\n",
        "\n",
        "np.random.seed(0)\n",
        "N = 10_000\n",
        "df = pd.DataFrame(\n",
        "    np.random.rand(N, 6),\n",
        "    columns=list('abcdef'),\n",
        ")\n",
        "df['true_ps'] = expit(df['a'] + 3 * df['b'] - 0.2 * df['c'] - 2 * df['f'])\n",
        "df['treatment'] = bernoulli.rvs(df['true_ps'])\n",
        "df['outcome'] = (\n",
        "    (\n",
        "        15 * df['a'] / np.exp(df['c'])) ** df['b'] \n",
        "        + (0.7 * np.sin(df['b']) \n",
        "        - 0.3 * np.exp(df['c']) ** 2\n",
        "    ) + np.random.normal(size=N)\n",
        ")\n",
        "df.head()"
      ],
      "execution_count": null,
      "outputs": [
        {
          "output_type": "execute_result",
          "data": {
            "text/html": [
              "<div>\n",
              "<style scoped>\n",
              "    .dataframe tbody tr th:only-of-type {\n",
              "        vertical-align: middle;\n",
              "    }\n",
              "\n",
              "    .dataframe tbody tr th {\n",
              "        vertical-align: top;\n",
              "    }\n",
              "\n",
              "    .dataframe thead th {\n",
              "        text-align: right;\n",
              "    }\n",
              "</style>\n",
              "<table border=\"1\" class=\"dataframe\">\n",
              "  <thead>\n",
              "    <tr style=\"text-align: right;\">\n",
              "      <th></th>\n",
              "      <th>a</th>\n",
              "      <th>b</th>\n",
              "      <th>c</th>\n",
              "      <th>d</th>\n",
              "      <th>e</th>\n",
              "      <th>f</th>\n",
              "      <th>true_ps</th>\n",
              "      <th>treatment</th>\n",
              "      <th>outcome</th>\n",
              "    </tr>\n",
              "  </thead>\n",
              "  <tbody>\n",
              "    <tr>\n",
              "      <th>0</th>\n",
              "      <td>0.548814</td>\n",
              "      <td>0.715189</td>\n",
              "      <td>0.602763</td>\n",
              "      <td>0.544883</td>\n",
              "      <td>0.423655</td>\n",
              "      <td>0.645894</td>\n",
              "      <td>0.782797</td>\n",
              "      <td>0</td>\n",
              "      <td>1.740649</td>\n",
              "    </tr>\n",
              "    <tr>\n",
              "      <th>1</th>\n",
              "      <td>0.437587</td>\n",
              "      <td>0.891773</td>\n",
              "      <td>0.963663</td>\n",
              "      <td>0.383442</td>\n",
              "      <td>0.791725</td>\n",
              "      <td>0.528895</td>\n",
              "      <td>0.865575</td>\n",
              "      <td>0</td>\n",
              "      <td>0.953746</td>\n",
              "    </tr>\n",
              "    <tr>\n",
              "      <th>2</th>\n",
              "      <td>0.568045</td>\n",
              "      <td>0.925597</td>\n",
              "      <td>0.071036</td>\n",
              "      <td>0.087129</td>\n",
              "      <td>0.020218</td>\n",
              "      <td>0.832620</td>\n",
              "      <td>0.840960</td>\n",
              "      <td>1</td>\n",
              "      <td>6.752207</td>\n",
              "    </tr>\n",
              "    <tr>\n",
              "      <th>3</th>\n",
              "      <td>0.778157</td>\n",
              "      <td>0.870012</td>\n",
              "      <td>0.978618</td>\n",
              "      <td>0.799159</td>\n",
              "      <td>0.461479</td>\n",
              "      <td>0.780529</td>\n",
              "      <td>0.836363</td>\n",
              "      <td>1</td>\n",
              "      <td>3.800730</td>\n",
              "    </tr>\n",
              "    <tr>\n",
              "      <th>4</th>\n",
              "      <td>0.118274</td>\n",
              "      <td>0.639921</td>\n",
              "      <td>0.143353</td>\n",
              "      <td>0.944669</td>\n",
              "      <td>0.521848</td>\n",
              "      <td>0.414662</td>\n",
              "      <td>0.764956</td>\n",
              "      <td>1</td>\n",
              "      <td>1.983770</td>\n",
              "    </tr>\n",
              "  </tbody>\n",
              "</table>\n",
              "</div>"
            ],
            "text/plain": [
              "          a         b         c  ...   true_ps  treatment   outcome\n",
              "0  0.548814  0.715189  0.602763  ...  0.782797          0  1.740649\n",
              "1  0.437587  0.891773  0.963663  ...  0.865575          0  0.953746\n",
              "2  0.568045  0.925597  0.071036  ...  0.840960          1  6.752207\n",
              "3  0.778157  0.870012  0.978618  ...  0.836363          1  3.800730\n",
              "4  0.118274  0.639921  0.143353  ...  0.764956          1  1.983770\n",
              "\n",
              "[5 rows x 9 columns]"
            ]
          },
          "metadata": {
            "tags": []
          },
          "execution_count": 2
        }
      ]
    },
    {
      "cell_type": "markdown",
      "metadata": {
        "id": "ZBtDiFmuPhmh"
      },
      "source": [
        "Note that here I generated 6 features. The true propensity score (`true_ps`) is decided by `a`, `b`, `c`, and `f` via a standard logistic form (`expit` is just the Sigmoid function) so that we do not need a sophisticated non-linear model on the propensity score. The `treatment` column indicates the binary intervention. It is drawn from a Bernoulli distribution with the success probability being `true_ps`. The `outcome` column is the metric we care about. Here it is decided stochastically by `a`, `b`, and `c` in a highly non-linear way. It turns out the non-linearity is necessary for a point I'm about to make. In reality, however, the relationship between your business metric and your features might be more complex than this. \n",
        "\n",
        "Importantly, the `outcome` has nothing to do with the `treatment` in this very case. In other words, the true treatment effect is zero throughout the board.\n",
        "\n",
        "In practice, we can observe all the 6 features, the treatment label, and the outcome column. But we will not know the true propensity score, or the functional forms that generate the true propensity score or the outcome."
      ]
    },
    {
      "cell_type": "code",
      "metadata": {
        "colab": {
          "base_uri": "https://localhost:8080/"
        },
        "id": "AEriFtKKltP5",
        "outputId": "684af0fc-9a7d-4b24-d703-e99cb1583c83"
      },
      "source": [
        "df['treatment'].sum()"
      ],
      "execution_count": null,
      "outputs": [
        {
          "output_type": "execute_result",
          "data": {
            "text/plain": [
              "6669"
            ]
          },
          "metadata": {
            "tags": []
          },
          "execution_count": 3
        }
      ]
    },
    {
      "cell_type": "markdown",
      "metadata": {
        "id": "8oiEivGxRp5S"
      },
      "source": [
        "The following is the relationship between the true propensity score and the treatment. Not surprisingly, treated samples have higher propensity scores in general."
      ]
    },
    {
      "cell_type": "code",
      "metadata": {
        "colab": {
          "base_uri": "https://localhost:8080/",
          "height": 402
        },
        "id": "k7rKSWuOlvIW",
        "outputId": "70759861-40ba-4ac8-bb0b-f61752a05e9a"
      },
      "source": [
        "import matplotlib.pyplot as plt\n",
        "import seaborn as sns\n",
        "\n",
        "sns.displot(df, x='true_ps', hue='treatment')\n",
        "plt.title(\"True Propensity Grouping By Treatment\")"
      ],
      "execution_count": null,
      "outputs": [
        {
          "output_type": "execute_result",
          "data": {
            "text/plain": [
              "Text(0.5, 1.0, 'True Propensity Grouping By Treatment')"
            ]
          },
          "metadata": {
            "tags": []
          },
          "execution_count": 4
        },
        {
          "output_type": "display_data",
          "data": {
            "image/png": "[encoded data removed]",
            "text/plain": [
              "<Figure size 417.875x360 with 1 Axes>"
            ]
          },
          "metadata": {
            "tags": [],
            "needs_background": "light"
          }
        }
      ]
    },
    {
      "cell_type": "markdown",
      "metadata": {
        "id": "r7Z_RHWFl5vv"
      },
      "source": [
        "## Why do we Need Matching?\n",
        "\n",
        "It is no secret that you need to consider confounding factors when you try to make any claim that people might have a causal read.[1] \n",
        "Suppose a data scientist has correctly identified `a` to `f` as confounding factors and decides to include them in their analysis. Following the common practice, they run a regression on the treatment label and all the confounding features, as follows."
      ]
    },
    {
      "cell_type": "code",
      "metadata": {
        "colab": {
          "base_uri": "https://localhost:8080/"
        },
        "id": "Q51Spnddl0_k",
        "outputId": "acfe2f8c-4218-4358-cda4-674968bae3f8"
      },
      "source": [
        "import statsmodels.formula.api as smf\n",
        "\n",
        "print(smf.ols('outcome ~ treatment + a + b + c + d + e + f', data=df).fit().summary())"
      ],
      "execution_count": null,
      "outputs": [
        {
          "output_type": "stream",
          "text": [
            "/usr/local/lib/python3.7/dist-packages/statsmodels/tools/_testing.py:19: FutureWarning: pandas.util.testing is deprecated. Use the functions in the public API at pandas.testing instead.\n",
            "  import pandas.util.testing as tm\n"
          ],
          "name": "stderr"
        },
        {
          "output_type": "stream",
          "text": [
            "                            OLS Regression Results                            \n",
            "==============================================================================\n",
            "Dep. Variable:                outcome   R-squared:                       0.620\n",
            "Model:                            OLS   Adj. R-squared:                  0.620\n",
            "Method:                 Least Squares   F-statistic:                     2333.\n",
            "Date:                Sun, 30 May 2021   Prob (F-statistic):               0.00\n",
            "Time:                        11:32:26   Log-Likelihood:                -17104.\n",
            "No. Observations:               10000   AIC:                         3.422e+04\n",
            "Df Residuals:                    9992   BIC:                         3.428e+04\n",
            "Df Model:                           7                                         \n",
            "Covariance Type:            nonrobust                                         \n",
            "==============================================================================\n",
            "                 coef    std err          t      P>|t|      [0.025      0.975]\n",
            "------------------------------------------------------------------------------\n",
            "Intercept     -0.3330      0.060     -5.536      0.000      -0.451      -0.215\n",
            "treatment     -0.1013      0.031     -3.218      0.001      -0.163      -0.040\n",
            "a              3.0977      0.047     66.417      0.000       3.006       3.189\n",
            "b              4.0618      0.050     81.622      0.000       3.964       4.159\n",
            "c             -3.1148      0.046    -67.120      0.000      -3.206      -3.024\n",
            "d              0.0245      0.046      0.528      0.597      -0.066       0.115\n",
            "e              0.0088      0.046      0.190      0.849      -0.082       0.100\n",
            "f              0.0188      0.048      0.393      0.694      -0.075       0.112\n",
            "==============================================================================\n",
            "Omnibus:                      461.686   Durbin-Watson:                   2.001\n",
            "Prob(Omnibus):                  0.000   Jarque-Bera (JB):              691.152\n",
            "Skew:                           0.422   Prob(JB):                    8.29e-151\n",
            "Kurtosis:                       3.972   Cond. No.                         9.70\n",
            "==============================================================================\n",
            "\n",
            "Warnings:\n",
            "[1] Standard Errors assume that the covariance matrix of the errors is correctly specified.\n"
          ],
          "name": "stdout"
        }
      ]
    },
    {
      "cell_type": "markdown",
      "metadata": {
        "id": "Fr0jMk6tqzwA"
      },
      "source": [
        "They find the model attributes a `-0.1` effect to the treatment, and it is statistically significant under conventional thresholds. If the data scientist is not careful, they would conclude the treatment negatively impacts the outcome.\n",
        " \n",
        "Because we know the underlying data generating process, we know this `-0.1` effect is false. But why does the model attribute any effect to the treatment? In this model the confounders enter the regression in a linear way. Because the functional form is not able to fully capture the true relationship (the nonlinearity we cooked up in the data generating part) and the treatment label is correlated with those confounding features, some of the nonlinear effects are attributed to the treatment.\n",
        " \n",
        "Can a nonlinear model help? In theory, yes. If the model is correctly specified (i.e., has the correct functional form), then the model is able to find the true treatment effect is zero. But without knowing the true relationship, this is unlikely to happen. Can you guess the true functional form that I arbitrarily wrote down just by looking at the date? Probably not.\n",
        " \n",
        "Only if there is a method to incorporate confounders without knowing how they affect the outcome... Lucky you, we do have such a method. This method is, guess what, propensity score matching (or matching in general).[2]\n",
        " \n",
        "Before I explain how, let's first go through the whole matching process. A typical PSM workflow has three steps:\n",
        "1. Build a model for the propensity score.\n",
        "1. Find matched pairs based on the predicted propensity.\n",
        "1. Perform analysis using the matched sample.\n",
        " \n",
        "### Build a Propensity Score Model\n",
        " \n",
        "Because we only consider the binary treatment here, a propensity score model is just a binary classifier that can make probability predictions.\n",
        " \n",
        "Here I will cheat a little bit. I run a simple (means not regularized) logistic regression as the propensity model. Because we already know the data generating process of the propensity score, this is the most efficient model.\n",
        " \n",
        "In a real problem, you may want to use a more capable classifier. If you decide to train a binary classifier like your typical ML project, then you still want to follow the best practices on the bias and variance tradeoff. In this use case, however, we do not care about accuracy/precision/recall/f1 or any other evaluation metrics that only compare binary predictions against their labels. Instead, you want to choose an evaluation metric that captures the goodness of predicted probabilities. The good old \"log loss\" is usually a good choice.\n"
      ]
    },
    {
      "cell_type": "code",
      "metadata": {
        "colab": {
          "base_uri": "https://localhost:8080/"
        },
        "id": "KcD00NoEm26f",
        "outputId": "79eb9b72-b5e6-41c4-ff57-d6659973ad44"
      },
      "source": [
        "ps_model = smf.logit('treatment ~ a + b + c + d + e + f', data=df).fit()\n",
        "print(ps_model.summary())"
      ],
      "execution_count": null,
      "outputs": [
        {
          "output_type": "stream",
          "text": [
            "Optimization terminated successfully.\n",
            "         Current function value: 0.535076\n",
            "         Iterations 6\n",
            "                           Logit Regression Results                           \n",
            "==============================================================================\n",
            "Dep. Variable:              treatment   No. Observations:                10000\n",
            "Model:                          Logit   Df Residuals:                     9993\n",
            "Method:                           MLE   Df Model:                            6\n",
            "Date:                Sun, 30 May 2021   Pseudo R-squ.:                  0.1592\n",
            "Time:                        11:32:27   Log-Likelihood:                -5350.8\n",
            "converged:                       True   LL-Null:                       -6363.5\n",
            "Covariance Type:            nonrobust   LLR p-value:                     0.000\n",
            "==============================================================================\n",
            "                 coef    std err          z      P>|z|      [0.025      0.975]\n",
            "------------------------------------------------------------------------------\n",
            "Intercept     -0.0139      0.100     -0.139      0.890      -0.211       0.183\n",
            "a              1.0020      0.082     12.159      0.000       0.840       1.163\n",
            "b              3.0623      0.090     34.013      0.000       2.886       3.239\n",
            "c             -0.1862      0.082     -2.277      0.023      -0.346      -0.026\n",
            "d             -0.0405      0.082     -0.494      0.622      -0.201       0.120\n",
            "e             -0.0059      0.082     -0.072      0.943      -0.166       0.155\n",
            "f             -2.0332      0.085    -23.958      0.000      -2.200      -1.867\n",
            "==============================================================================\n"
          ],
          "name": "stdout"
        }
      ]
    },
    {
      "cell_type": "markdown",
      "metadata": {
        "id": "e0gLUdbH0lBf"
      },
      "source": [
        "The predicted propensity score is simply the probability prediction on the training set. Do not worry about the traditional ML's insistence on the out-of-sample predictions in this case."
      ]
    },
    {
      "cell_type": "code",
      "metadata": {
        "id": "O5PyRL9orIyh"
      },
      "source": [
        "# make the propensity score prediction\n",
        "df['_score'] = ps_model.predict()"
      ],
      "execution_count": null,
      "outputs": []
    },
    {
      "cell_type": "markdown",
      "metadata": {
        "id": "MgFL4kUHYEp0"
      },
      "source": [
        "### Pairing up using the Propensity Predictions\n",
        "\n",
        "I use the following algorithm to form matched paris.[3] In the literature, this method is called the nearest neighbor with a caliper. It is a greedy algorithm. It iteratively forms pairs using the closest matches that are within a certain threshold (caliper) without replacement. You can also go for the optimal matching that minimizes the average distance within pairs, although studies (e.g., Gu and Rosenbaum, 1993) show their empirical performances are typically on par with each other. "
      ]
    },
    {
      "cell_type": "code",
      "metadata": {
        "id": "mK5oZwCNreCF"
      },
      "source": [
        "def match(\n",
        "    data: pd.DataFrame, \n",
        "    threshold: float = 0.0001, \n",
        "    treatment_col: str = \"treatment\", \n",
        "    score_col: str = \"_score\",\n",
        "    match_id_col: str = \"_match_id\",\n",
        ") -> pd.DataFrame:\n",
        "    \"\"\"\n",
        "    Finds a suitable pair for each record in the dataset, if one exists.\n",
        "    Records are excluded from the final matched dataset if there are no suitable matches.\n",
        "    \"\"\"\n",
        "    assert score_col in data.columns, \"Propensity Scores have not been calculated\"\n",
        "\n",
        "    pairs = {}\n",
        "    treated = data[data[treatment_col] == 1]\n",
        "    control = data[data[treatment_col] == 0]\n",
        "    # Because nearest neighbor matching is greedy,\n",
        "    # a random shuffle here removes any structures in the data.\n",
        "    # I fixed the random_state for reproductivity, in practice\n",
        "    # you want to remove the fixed random_state\n",
        "    for index, score in treated[score_col].sample(frac=1, random_state=0).iteritems():\n",
        "        diff = (control[score_col] - score).abs().sort_values()\n",
        "        for candidate_index, delta in diff.iteritems():\n",
        "            # because diff is sorted, we can assure\n",
        "            # there's no valid pair if delta is larger than the threshold\n",
        "            if delta > threshold:\n",
        "                break\n",
        "            # candidate has already formed a pair\n",
        "            if candidate_index in pairs:\n",
        "                continue\n",
        "            else: \n",
        "                # candidate is available to form a match\n",
        "                pairs[candidate_index] = index\n",
        "                break\n",
        "\n",
        "    # remove/initialize the match_id column\n",
        "    data[match_id_col] = np.nan\n",
        "    match_id = 0\n",
        "    for control_index, treated_index in pairs.items():\n",
        "        data.at[control_index, match_id_col] = match_id\n",
        "        data.at[treated_index, match_id_col] = match_id\n",
        "        match_id += 1\n",
        "    return data[data[match_id_col].notnull()]"
      ],
      "execution_count": null,
      "outputs": []
    },
    {
      "cell_type": "markdown",
      "metadata": {
        "id": "zCnu48vLYc5i"
      },
      "source": [
        "Let's take a peek at the post match data. The `_score` column is the predicted propensity score. As expected, it is close to the true score. The column `_match_id` is the id of the pair. Two rows that form a comparable pair in this dataframe share one id.\n",
        "\n",
        "Notice that the size of the matched sample is much smaller because we dropped all the single data points."
      ]
    },
    {
      "cell_type": "code",
      "metadata": {
        "colab": {
          "base_uri": "https://localhost:8080/",
          "height": 221
        },
        "id": "xILd856urjvg",
        "outputId": "c0b9472a-ce06-45fb-b2c6-5471f3bc0460"
      },
      "source": [
        "matched_df = match(df)\n",
        "print(f\"Size of the matched sample: {len(matched_df)}\")\n",
        "matched_df.head()"
      ],
      "execution_count": null,
      "outputs": [
        {
          "output_type": "stream",
          "text": [
            "Size of the matched sample: 3650\n"
          ],
          "name": "stdout"
        },
        {
          "output_type": "execute_result",
          "data": {
            "text/html": [
              "<div>\n",
              "<style scoped>\n",
              "    .dataframe tbody tr th:only-of-type {\n",
              "        vertical-align: middle;\n",
              "    }\n",
              "\n",
              "    .dataframe tbody tr th {\n",
              "        vertical-align: top;\n",
              "    }\n",
              "\n",
              "    .dataframe thead th {\n",
              "        text-align: right;\n",
              "    }\n",
              "</style>\n",
              "<table border=\"1\" class=\"dataframe\">\n",
              "  <thead>\n",
              "    <tr style=\"text-align: right;\">\n",
              "      <th></th>\n",
              "      <th>a</th>\n",
              "      <th>b</th>\n",
              "      <th>c</th>\n",
              "      <th>d</th>\n",
              "      <th>e</th>\n",
              "      <th>f</th>\n",
              "      <th>true_ps</th>\n",
              "      <th>treatment</th>\n",
              "      <th>outcome</th>\n",
              "      <th>_score</th>\n",
              "      <th>_match_id</th>\n",
              "    </tr>\n",
              "  </thead>\n",
              "  <tbody>\n",
              "    <tr>\n",
              "      <th>0</th>\n",
              "      <td>0.548814</td>\n",
              "      <td>0.715189</td>\n",
              "      <td>0.602763</td>\n",
              "      <td>0.544883</td>\n",
              "      <td>0.423655</td>\n",
              "      <td>0.645894</td>\n",
              "      <td>0.782797</td>\n",
              "      <td>0</td>\n",
              "      <td>1.740649</td>\n",
              "      <td>0.781791</td>\n",
              "      <td>1508.0</td>\n",
              "    </tr>\n",
              "    <tr>\n",
              "      <th>1</th>\n",
              "      <td>0.437587</td>\n",
              "      <td>0.891773</td>\n",
              "      <td>0.963663</td>\n",
              "      <td>0.383442</td>\n",
              "      <td>0.791725</td>\n",
              "      <td>0.528895</td>\n",
              "      <td>0.865575</td>\n",
              "      <td>0</td>\n",
              "      <td>0.953746</td>\n",
              "      <td>0.867669</td>\n",
              "      <td>855.0</td>\n",
              "    </tr>\n",
              "    <tr>\n",
              "      <th>3</th>\n",
              "      <td>0.778157</td>\n",
              "      <td>0.870012</td>\n",
              "      <td>0.978618</td>\n",
              "      <td>0.799159</td>\n",
              "      <td>0.461479</td>\n",
              "      <td>0.780529</td>\n",
              "      <td>0.836363</td>\n",
              "      <td>1</td>\n",
              "      <td>3.800730</td>\n",
              "      <td>0.835596</td>\n",
              "      <td>453.0</td>\n",
              "    </tr>\n",
              "    <tr>\n",
              "      <th>5</th>\n",
              "      <td>0.264556</td>\n",
              "      <td>0.774234</td>\n",
              "      <td>0.456150</td>\n",
              "      <td>0.568434</td>\n",
              "      <td>0.018790</td>\n",
              "      <td>0.617635</td>\n",
              "      <td>0.779156</td>\n",
              "      <td>0</td>\n",
              "      <td>2.227795</td>\n",
              "      <td>0.778735</td>\n",
              "      <td>251.0</td>\n",
              "    </tr>\n",
              "    <tr>\n",
              "      <th>6</th>\n",
              "      <td>0.612096</td>\n",
              "      <td>0.616934</td>\n",
              "      <td>0.943748</td>\n",
              "      <td>0.681820</td>\n",
              "      <td>0.359508</td>\n",
              "      <td>0.437032</td>\n",
              "      <td>0.802197</td>\n",
              "      <td>1</td>\n",
              "      <td>-0.514348</td>\n",
              "      <td>0.801336</td>\n",
              "      <td>1211.0</td>\n",
              "    </tr>\n",
              "  </tbody>\n",
              "</table>\n",
              "</div>"
            ],
            "text/plain": [
              "          a         b         c  ...   outcome    _score  _match_id\n",
              "0  0.548814  0.715189  0.602763  ...  1.740649  0.781791     1508.0\n",
              "1  0.437587  0.891773  0.963663  ...  0.953746  0.867669      855.0\n",
              "3  0.778157  0.870012  0.978618  ...  3.800730  0.835596      453.0\n",
              "5  0.264556  0.774234  0.456150  ...  2.227795  0.778735      251.0\n",
              "6  0.612096  0.616934  0.943748  ... -0.514348  0.801336     1211.0\n",
              "\n",
              "[5 rows x 11 columns]"
            ]
          },
          "metadata": {
            "tags": []
          },
          "execution_count": 9
        }
      ]
    },
    {
      "cell_type": "markdown",
      "metadata": {
        "id": "ubAPaDrXYgc-"
      },
      "source": [
        "### Analysis with the Matched Sample\n",
        "\n",
        "On this matched sample, let's run the original regression again and see if the result is any different."
      ]
    },
    {
      "cell_type": "code",
      "metadata": {
        "colab": {
          "base_uri": "https://localhost:8080/"
        },
        "id": "jI_B-oHzuNFe",
        "outputId": "f0f91a92-d906-4aa2-eccd-d637c7b7cce7"
      },
      "source": [
        "print(smf.ols('outcome ~ treatment + a + b + c + d + e + f', data=matched_df).fit().summary())"
      ],
      "execution_count": null,
      "outputs": [
        {
          "output_type": "stream",
          "text": [
            "                            OLS Regression Results                            \n",
            "==============================================================================\n",
            "Dep. Variable:                outcome   R-squared:                       0.563\n",
            "Model:                            OLS   Adj. R-squared:                  0.562\n",
            "Method:                 Least Squares   F-statistic:                     669.7\n",
            "Date:                Sun, 30 May 2021   Prob (F-statistic):               0.00\n",
            "Time:                        11:32:37   Log-Likelihood:                -5963.9\n",
            "No. Observations:                3650   AIC:                         1.194e+04\n",
            "Df Residuals:                    3642   BIC:                         1.199e+04\n",
            "Df Model:                           7                                         \n",
            "Covariance Type:            nonrobust                                         \n",
            "==============================================================================\n",
            "                 coef    std err          t      P>|t|      [0.025      0.975]\n",
            "------------------------------------------------------------------------------\n",
            "Intercept     -0.2469      0.088     -2.790      0.005      -0.420      -0.073\n",
            "treatment      0.0323      0.041      0.787      0.431      -0.048       0.113\n",
            "a              2.7062      0.072     37.751      0.000       2.566       2.847\n",
            "b              3.7821      0.081     46.775      0.000       3.624       3.941\n",
            "c             -2.6967      0.071    -38.119      0.000      -2.835      -2.558\n",
            "d             -0.0177      0.070     -0.251      0.802      -0.156       0.120\n",
            "e             -0.0843      0.071     -1.190      0.234      -0.223       0.055\n",
            "f             -0.1490      0.076     -1.973      0.049      -0.297      -0.001\n",
            "==============================================================================\n",
            "Omnibus:                       93.022   Durbin-Watson:                   1.943\n",
            "Prob(Omnibus):                  0.000   Jarque-Bera (JB):              125.826\n",
            "Skew:                           0.293   Prob(JB):                     4.76e-28\n",
            "Kurtosis:                       3.696   Cond. No.                         9.04\n",
            "==============================================================================\n",
            "\n",
            "Warnings:\n",
            "[1] Standard Errors assume that the covariance matrix of the errors is correctly specified.\n"
          ],
          "name": "stdout"
        }
      ]
    },
    {
      "cell_type": "markdown",
      "metadata": {
        "id": "adeezjVHYmQF"
      },
      "source": [
        "Look at the coefficient on the treatment. This time we correctly fail to reject the treatment effect being zero. This shows the effectiveness of propensity score matching.\n",
        "\n",
        "But what's going on? The reason is that PSM removes the mix shift and balances the data in all dimensions. When the data itself is balanced, the functional form does not matter any more.\n",
        "\n",
        "For a concrete example, let's examine the distribution of feature `a` before and after the matching. Here is its distribution before the matching, grouping by the treatment."
      ]
    },
    {
      "cell_type": "code",
      "metadata": {
        "colab": {
          "base_uri": "https://localhost:8080/",
          "height": 370
        },
        "id": "c2AUTdh4sygZ",
        "outputId": "feab84df-032a-447c-fe2f-2cc1e3e233f8"
      },
      "source": [
        "sns.distplot(x=df[df['treatment'] == 1]['a'], label='Treated', kde=False)\n",
        "sns.distplot(x=df[df['treatment'] == 0]['a'], label='Control', kde=False)\n",
        "plt.legend()"
      ],
      "execution_count": null,
      "outputs": [
        {
          "output_type": "stream",
          "text": [
            "/usr/local/lib/python3.7/dist-packages/seaborn/distributions.py:2557: FutureWarning: `distplot` is a deprecated function and will be removed in a future version. Please adapt your code to use either `displot` (a figure-level function with similar flexibility) or `histplot` (an axes-level function for histograms).\n",
            "  warnings.warn(msg, FutureWarning)\n",
            "/usr/local/lib/python3.7/dist-packages/seaborn/distributions.py:2557: FutureWarning: `distplot` is a deprecated function and will be removed in a future version. Please adapt your code to use either `displot` (a figure-level function with similar flexibility) or `histplot` (an axes-level function for histograms).\n",
            "  warnings.warn(msg, FutureWarning)\n"
          ],
          "name": "stderr"
        },
        {
          "output_type": "execute_result",
          "data": {
            "text/plain": [
              "<matplotlib.legend.Legend at 0x7f0865ef5a50>"
            ]
          },
          "metadata": {
            "tags": []
          },
          "execution_count": 11
        },
        {
          "output_type": "display_data",
          "data": {
            "image/png": "[encoded data removed]",
            "text/plain": [
              "<Figure size 432x288 with 1 Axes>"
            ]
          },
          "metadata": {
            "tags": [],
            "needs_background": "light"
          }
        }
      ]
    },
    {
      "cell_type": "markdown",
      "metadata": {
        "id": "_k1JjtG4vJF5"
      },
      "source": [
        "Now you see it. The feature is not balanced with respect to the treatment before the matching. Recall the doctor example in the introduction, we hope to find two groups that are comparable and now the two groups are not. Because feature `a` plays a key and non-linear role in producing the outcome, this mix shift effect is wrongly associated with the treatment label. \n",
        "\n",
        "To show this visually, let's check the scatter plot between `a` and the outcome."
      ]
    },
    {
      "cell_type": "code",
      "metadata": {
        "colab": {
          "base_uri": "https://localhost:8080/",
          "height": 327
        },
        "id": "AcnAAIf-BHMS",
        "outputId": "30777e72-d1d8-40ef-e36c-2ffd164edb4a"
      },
      "source": [
        "downsampled_data = df.sample(frac=0.1, random_state=0)\n",
        "sns.regplot(data=downsampled_data[downsampled_data['treatment'] == 1], x='a', y='outcome', label=\"Treated\", scatter_kws={'s': 5})\n",
        "sns.regplot(data=downsampled_data[downsampled_data['treatment'] == 0], x='a', y='outcome', label=\"Control\", scatter_kws={'s': 5})\n",
        "plt.title(\"Because data is unbalanced, the relationships between\\n'a' and 'outcome' are NOT the same in the treated and the control groups\")\n",
        "plt.legend()"
      ],
      "execution_count": null,
      "outputs": [
        {
          "output_type": "execute_result",
          "data": {
            "text/plain": [
              "<matplotlib.legend.Legend at 0x7f087a4a8a10>"
            ]
          },
          "metadata": {
            "tags": []
          },
          "execution_count": 12
        },
        {
          "output_type": "display_data",
          "data": {
            "image/png": "[encoded data removed]",
            "text/plain": [
              "<Figure size 432x288 with 1 Axes>"
            ]
          },
          "metadata": {
            "tags": [],
            "needs_background": "light"
          }
        }
      ]
    },
    {
      "cell_type": "markdown",
      "metadata": {
        "id": "0ObqA-u2xSq8"
      },
      "source": [
        "We can see more blue points on the right up corner, which moves up the blue line. Roughly speaking, the gap between the two lines (caused by mix shift) is wrongly attributed to the treatment label."
      ]
    },
    {
      "cell_type": "markdown",
      "metadata": {
        "id": "QuBBQqs7yf48"
      },
      "source": [
        "Let's visit the matched sample and see if we can find any mix shift."
      ]
    },
    {
      "cell_type": "code",
      "metadata": {
        "colab": {
          "base_uri": "https://localhost:8080/",
          "height": 370
        },
        "id": "CumTBYYuuMPR",
        "outputId": "6b115418-e11c-46fc-b85f-a6822cd34677"
      },
      "source": [
        "sns.distplot(x=matched_df[matched_df['treatment'] == 1]['a'], label='Treated', kde=False)\n",
        "sns.distplot(x=matched_df[matched_df['treatment'] == 0]['a'], label='Control', kde=False)\n",
        "plt.legend()"
      ],
      "execution_count": null,
      "outputs": [
        {
          "output_type": "stream",
          "text": [
            "/usr/local/lib/python3.7/dist-packages/seaborn/distributions.py:2557: FutureWarning: `distplot` is a deprecated function and will be removed in a future version. Please adapt your code to use either `displot` (a figure-level function with similar flexibility) or `histplot` (an axes-level function for histograms).\n",
            "  warnings.warn(msg, FutureWarning)\n",
            "/usr/local/lib/python3.7/dist-packages/seaborn/distributions.py:2557: FutureWarning: `distplot` is a deprecated function and will be removed in a future version. Please adapt your code to use either `displot` (a figure-level function with similar flexibility) or `histplot` (an axes-level function for histograms).\n",
            "  warnings.warn(msg, FutureWarning)\n"
          ],
          "name": "stderr"
        },
        {
          "output_type": "execute_result",
          "data": {
            "text/plain": [
              "<matplotlib.legend.Legend at 0x7f0865ff7dd0>"
            ]
          },
          "metadata": {
            "tags": []
          },
          "execution_count": 13
        },
        {
          "output_type": "display_data",
          "data": {
            "image/png": "[encoded data removed]",
            "text/plain": [
              "<Figure size 432x288 with 1 Axes>"
            ]
          },
          "metadata": {
            "tags": [],
            "needs_background": "light"
          }
        }
      ]
    },
    {
      "cell_type": "code",
      "metadata": {
        "colab": {
          "base_uri": "https://localhost:8080/",
          "height": 327
        },
        "id": "Ypx-NE7L_oTo",
        "outputId": "a9af3b6f-bce8-4959-8ad7-7eb12358da03"
      },
      "source": [
        "downsampled_matched_data = matched_df.sample(frac=0.3, random_state=0)\n",
        "sns.regplot(data=downsampled_matched_data[downsampled_matched_data['treatment'] == 0], x='a', y='outcome', label=\"Control\", scatter_kws={'s': 5})\n",
        "sns.regplot(data=downsampled_matched_data[downsampled_matched_data['treatment'] == 1], x='a', y='outcome', label=\"Treated\", scatter_kws={'s': 5})\n",
        "plt.title(\"Because data is balanced, the relationships between\\n'a' and 'outcome' are the same in the treated and the control groups\")"
      ],
      "execution_count": null,
      "outputs": [
        {
          "output_type": "execute_result",
          "data": {
            "text/plain": [
              "Text(0.5, 1.0, \"Because data is balanced, the relationships between\\n'a' and 'outcome' are the same in the treated and the control groups\")"
            ]
          },
          "metadata": {
            "tags": []
          },
          "execution_count": 14
        },
        {
          "output_type": "display_data",
          "data": {
            "image/png": "[encoded data removed]",
            "text/plain": [
              "<Figure size 432x288 with 1 Axes>"
            ]
          },
          "metadata": {
            "tags": [],
            "needs_background": "light"
          }
        }
      ]
    },
    {
      "cell_type": "markdown",
      "metadata": {
        "id": "y99QkhXHypoR"
      },
      "source": [
        "The answer is no."
      ]
    },
    {
      "cell_type": "markdown",
      "metadata": {
        "id": "6-myyJQrvKVP"
      },
      "source": [
        "## The Ignorability Assumption\n",
        "\n",
        "The ignorability (also known as unconfoundedness, conditional independence, or selection on observables) assumption means we have included all the features that affect both the outcome and the treatment assignment in our models. This is a tricky assumption: it is super duper important and yet very hard to test. You can check [this](https://arxiv.org/pdf/2012.15716.pdf) 80-page and full-of-math paper if you feel like learning something. I'll give you a simple procedure to test this assumption only using `scikit-learn`. But before we do this, let me first emphasize its importance.\n",
        "\n",
        "### The Violation of the Ignorability Assumption\n",
        "\n",
        "Not all problems in data science are sensitive to assumptions. Therefore, maybe not all of your fellow data scientists are allergic to skipping tests on assumptions. How bad can it be if we fail to include some features? We lose 1% of model performance? Who cares?\n",
        "\n",
        "Well the answer is the estimated treatment effect can be biased. This bias can lead to qualitatively incorrect business decisions that might cost you millions or more.\n",
        "\n",
        "In the following simulation, let's exclude `a` and `b`. In practice, maybe you are not aware of their importance; maybe it takes weeks to build the pipeline to process them; maybe you never gather them to begin with; or maybe they are private to your users and you can never observe it (e.g., the true feeling about your product). In this exercise, we know both of them are critical for the propensity and the outcome equations. Therefore, we're violating the ignorability assumption. Is this a big deal? Let's find out.\n",
        "\n",
        "We run the propensity score model, generate the propensity score prediction, and do the matching as usual."
      ]
    },
    {
      "cell_type": "code",
      "metadata": {
        "colab": {
          "base_uri": "https://localhost:8080/"
        },
        "id": "HzDRgjCi1BYS",
        "outputId": "ad55b5e1-2836-4fef-fbc0-558aec3e2892"
      },
      "source": [
        "# The suffix `ov` means omitted variable bias.\n",
        "# The name comes from that we have omitted important variables.\n",
        "ps_model_ov = smf.logit('treatment ~ c + d + e + f', data=df).fit()\n",
        "print(ps_model_ov.summary())\n",
        "df['_score_ov'] = ps_model_ov.predict()"
      ],
      "execution_count": null,
      "outputs": [
        {
          "output_type": "stream",
          "text": [
            "Optimization terminated successfully.\n",
            "         Current function value: 0.609952\n",
            "         Iterations 5\n",
            "                           Logit Regression Results                           \n",
            "==============================================================================\n",
            "Dep. Variable:              treatment   No. Observations:                10000\n",
            "Model:                          Logit   Df Residuals:                     9995\n",
            "Method:                           MLE   Df Model:                            4\n",
            "Date:                Sun, 30 May 2021   Pseudo R-squ.:                 0.04149\n",
            "Time:                        11:32:52   Log-Likelihood:                -6099.5\n",
            "converged:                       True   LL-Null:                       -6363.5\n",
            "Covariance Type:            nonrobust   LLR p-value:                5.868e-113\n",
            "==============================================================================\n",
            "                 coef    std err          z      P>|z|      [0.025      0.975]\n",
            "------------------------------------------------------------------------------\n",
            "Intercept      1.6560      0.081     20.360      0.000       1.497       1.815\n",
            "c             -0.1459      0.075     -1.935      0.053      -0.294       0.002\n",
            "d             -0.0230      0.075     -0.305      0.760      -0.171       0.125\n",
            "e              0.0525      0.076      0.695      0.487      -0.096       0.201\n",
            "f             -1.7271      0.077    -22.307      0.000      -1.879      -1.575\n",
            "==============================================================================\n"
          ],
          "name": "stdout"
        }
      ]
    },
    {
      "cell_type": "code",
      "metadata": {
        "colab": {
          "base_uri": "https://localhost:8080/",
          "height": 221
        },
        "id": "9UcGSCUV-4np",
        "outputId": "cdcc40ac-e14b-46d5-93d0-b55d6a31fc55"
      },
      "source": [
        "matched_df_ov = match(df, score_col=\"_score_ov\", match_id_col=\"_math_id_ov\")\n",
        "print(f\"Size of the matched sample: {len(matched_df_ov)}\")\n",
        "matched_df_ov.head()"
      ],
      "execution_count": null,
      "outputs": [
        {
          "output_type": "stream",
          "text": [
            "Size of the matched sample: 5396\n"
          ],
          "name": "stdout"
        },
        {
          "output_type": "execute_result",
          "data": {
            "text/html": [
              "<div>\n",
              "<style scoped>\n",
              "    .dataframe tbody tr th:only-of-type {\n",
              "        vertical-align: middle;\n",
              "    }\n",
              "\n",
              "    .dataframe tbody tr th {\n",
              "        vertical-align: top;\n",
              "    }\n",
              "\n",
              "    .dataframe thead th {\n",
              "        text-align: right;\n",
              "    }\n",
              "</style>\n",
              "<table border=\"1\" class=\"dataframe\">\n",
              "  <thead>\n",
              "    <tr style=\"text-align: right;\">\n",
              "      <th></th>\n",
              "      <th>a</th>\n",
              "      <th>b</th>\n",
              "      <th>c</th>\n",
              "      <th>d</th>\n",
              "      <th>e</th>\n",
              "      <th>f</th>\n",
              "      <th>true_ps</th>\n",
              "      <th>treatment</th>\n",
              "      <th>outcome</th>\n",
              "      <th>_score</th>\n",
              "      <th>_match_id</th>\n",
              "      <th>_score_ov</th>\n",
              "      <th>_math_id_ov</th>\n",
              "    </tr>\n",
              "  </thead>\n",
              "  <tbody>\n",
              "    <tr>\n",
              "      <th>1</th>\n",
              "      <td>0.437587</td>\n",
              "      <td>0.891773</td>\n",
              "      <td>0.963663</td>\n",
              "      <td>0.383442</td>\n",
              "      <td>0.791725</td>\n",
              "      <td>0.528895</td>\n",
              "      <td>0.865575</td>\n",
              "      <td>0</td>\n",
              "      <td>0.953746</td>\n",
              "      <td>0.867669</td>\n",
              "      <td>855.0</td>\n",
              "      <td>0.653544</td>\n",
              "      <td>1798.0</td>\n",
              "    </tr>\n",
              "    <tr>\n",
              "      <th>5</th>\n",
              "      <td>0.264556</td>\n",
              "      <td>0.774234</td>\n",
              "      <td>0.456150</td>\n",
              "      <td>0.568434</td>\n",
              "      <td>0.018790</td>\n",
              "      <td>0.617635</td>\n",
              "      <td>0.779156</td>\n",
              "      <td>0</td>\n",
              "      <td>2.227795</td>\n",
              "      <td>0.778735</td>\n",
              "      <td>251.0</td>\n",
              "      <td>0.624952</td>\n",
              "      <td>1186.0</td>\n",
              "    </tr>\n",
              "    <tr>\n",
              "      <th>7</th>\n",
              "      <td>0.697631</td>\n",
              "      <td>0.060225</td>\n",
              "      <td>0.666767</td>\n",
              "      <td>0.670638</td>\n",
              "      <td>0.210383</td>\n",
              "      <td>0.128926</td>\n",
              "      <td>0.619423</td>\n",
              "      <td>0</td>\n",
              "      <td>-0.018675</td>\n",
              "      <td>0.611799</td>\n",
              "      <td>NaN</td>\n",
              "      <td>0.791112</td>\n",
              "      <td>11.0</td>\n",
              "    </tr>\n",
              "    <tr>\n",
              "      <th>8</th>\n",
              "      <td>0.315428</td>\n",
              "      <td>0.363711</td>\n",
              "      <td>0.570197</td>\n",
              "      <td>0.438602</td>\n",
              "      <td>0.988374</td>\n",
              "      <td>0.102045</td>\n",
              "      <td>0.748086</td>\n",
              "      <td>0</td>\n",
              "      <td>0.662756</td>\n",
              "      <td>0.746257</td>\n",
              "      <td>NaN</td>\n",
              "      <td>0.808199</td>\n",
              "      <td>39.0</td>\n",
              "    </tr>\n",
              "    <tr>\n",
              "      <th>11</th>\n",
              "      <td>0.820993</td>\n",
              "      <td>0.097101</td>\n",
              "      <td>0.837945</td>\n",
              "      <td>0.096098</td>\n",
              "      <td>0.976459</td>\n",
              "      <td>0.468651</td>\n",
              "      <td>0.501851</td>\n",
              "      <td>1</td>\n",
              "      <td>-0.164941</td>\n",
              "      <td>0.496887</td>\n",
              "      <td>268.0</td>\n",
              "      <td>0.684249</td>\n",
              "      <td>422.0</td>\n",
              "    </tr>\n",
              "  </tbody>\n",
              "</table>\n",
              "</div>"
            ],
            "text/plain": [
              "           a         b         c  ...  _match_id  _score_ov  _math_id_ov\n",
              "1   0.437587  0.891773  0.963663  ...      855.0   0.653544       1798.0\n",
              "5   0.264556  0.774234  0.456150  ...      251.0   0.624952       1186.0\n",
              "7   0.697631  0.060225  0.666767  ...        NaN   0.791112         11.0\n",
              "8   0.315428  0.363711  0.570197  ...        NaN   0.808199         39.0\n",
              "11  0.820993  0.097101  0.837945  ...      268.0   0.684249        422.0\n",
              "\n",
              "[5 rows x 13 columns]"
            ]
          },
          "metadata": {
            "tags": []
          },
          "execution_count": 16
        }
      ]
    },
    {
      "cell_type": "markdown",
      "metadata": {
        "id": "_nHGnC3dj_vE"
      },
      "source": [
        "Then, same as before, we run the outcome regression with the matched data."
      ]
    },
    {
      "cell_type": "code",
      "metadata": {
        "colab": {
          "base_uri": "https://localhost:8080/"
        },
        "id": "yVvBBMGB_EGj",
        "outputId": "0777c1d6-6463-47db-8f75-5c4ae549f158"
      },
      "source": [
        "print(smf.ols('outcome ~ treatment + c + d + e + f', data=matched_df_ov).fit().summary())"
      ],
      "execution_count": null,
      "outputs": [
        {
          "output_type": "stream",
          "text": [
            "                            OLS Regression Results                            \n",
            "==============================================================================\n",
            "Dep. Variable:                outcome   R-squared:                       0.227\n",
            "Model:                            OLS   Adj. R-squared:                  0.226\n",
            "Method:                 Least Squares   F-statistic:                     316.0\n",
            "Date:                Sun, 30 May 2021   Prob (F-statistic):          1.43e-297\n",
            "Time:                        11:33:37   Log-Likelihood:                -10892.\n",
            "No. Observations:                5396   AIC:                         2.180e+04\n",
            "Df Residuals:                    5390   BIC:                         2.184e+04\n",
            "Df Model:                           5                                         \n",
            "Covariance Type:            nonrobust                                         \n",
            "==============================================================================\n",
            "                 coef    std err          t      P>|t|      [0.025      0.975]\n",
            "------------------------------------------------------------------------------\n",
            "Intercept      2.1120      0.098     21.636      0.000       1.921       2.303\n",
            "treatment      1.0756      0.050     21.675      0.000       0.978       1.173\n",
            "c             -2.8148      0.087    -32.418      0.000      -2.985      -2.645\n",
            "d             -0.0416      0.086     -0.484      0.628      -0.210       0.127\n",
            "e              0.1061      0.086      1.229      0.219      -0.063       0.275\n",
            "f              0.4160      0.090      4.629      0.000       0.240       0.592\n",
            "==============================================================================\n",
            "Omnibus:                      773.401   Durbin-Watson:                   2.000\n",
            "Prob(Omnibus):                  0.000   Jarque-Bera (JB):             1389.718\n",
            "Skew:                           0.926   Prob(JB):                    1.68e-302\n",
            "Kurtosis:                       4.659   Cond. No.                         8.08\n",
            "==============================================================================\n",
            "\n",
            "Warnings:\n",
            "[1] Standard Errors assume that the covariance matrix of the errors is correctly specified.\n"
          ],
          "name": "stdout"
        }
      ]
    },
    {
      "cell_type": "markdown",
      "metadata": {
        "id": "zAp2_vw-AxuA"
      },
      "source": [
        "The model attributes `1.1` to the treatment (and this number is statistically significant in all conventional significance levels). If we were to make business decisions based on this analysis, we would reach a false conclusion and potentially lose a lot.\n",
        "\n",
        "Why do we end up with `1.1` on the treatment's coefficient? Because `a` and `b` are important to the outcome and yet we do not include them, the regression tries to attribute some of their effects on the treatment label, which is correlated with `a` and `b`.\n",
        "\n",
        "In summary, we violate the ignorability assumption and the estimated treatment effect can be much biased. "
      ]
    },
    {
      "cell_type": "markdown",
      "metadata": {
        "id": "nFcxqpmqvFDD"
      },
      "source": [
        "## How to test ignorability?\n",
        "Now we know we should really treat the ignorability assumption seriously. But how do we know if we meet this assumption or not?\n",
        "At first sight, the ignorability assumption is difficult to test. How do you test whether you have missed features that you might have never considered their existence?\n",
        " \n",
        "Sometimes you don't have to. When you control the treatment assignment process, you already know which features influence the propensity. For example, a doctor may decide her prescription based on a set of lab results; your marketing team may decide which users to send a coupon code based on a spreadsheet. In either case, we only need to grab the information the doctor or your marketing team has.\n",
        " \n",
        "But what if you don't fully understand the treatment assignment process? In this situation, you might have a laundry list of features but you are still worried about the ignorability assumption: your laundry list might just miss a couple key items.\n",
        " \n",
        "To test whether your laundry list is good enough, we need to utilize the residuals. For any model, residuals contain information in the training labels that cannot be attributed to the included features. In other words, residuals summarize the unincluded features that would be relevant to the model if they were included.\n",
        " \n",
        "To perform tests on the ignorability assumption, we need to model the outcome as well. If the ignorability assumption holds, then we should expect the residuals of the propensity model and the outcome model to be independent because we have already included features that are critical to both. Conversely, we know we have missed something important.[4]\n",
        " \n",
        "Let's put this idea to the test.\n",
        "\n",
        " \n",
        "### The Outcome Model\n",
        " \n",
        "Because the data generating process for the outcome is nonlinear, we need a model that can fit a flexible functional form. Here I choose LightGBM simply because I'm currently playing with LightGBM. You should feel free to choose others as long as they can capture complex nonlinear relationships (e.g., XGBoost or some AutoML framework).\n"
      ]
    },
    {
      "cell_type": "code",
      "metadata": {
        "id": "6FWWjyk_wpba"
      },
      "source": [
        "from typing import Dict, Union\n",
        "import lightgbm as lgb\n",
        "\n",
        "def train_lightgbm_model(\n",
        "    params: Dict[str, Union[str, float]], \n",
        "    lgb_dataset: lgb.Dataset, \n",
        "    num_boost_round: int = 0\n",
        ") -> lgb.Booster:\n",
        "    \"\"\"\n",
        "    Train a lightgbm model.\n",
        "\n",
        "    When num_boost_round <= 0, use cv to find the optimal num_boost_round.\n",
        "    \"\"\"\n",
        "    # lightgbm sets stratified = True by default \n",
        "    # but we need to set it to False for regression\n",
        "    stratified = True if params.get(\"objective\") == \"binary\" else False\n",
        "\n",
        "    if num_boost_round <= 0:\n",
        "        cv_result = lgb.cv(\n",
        "            params=params,\n",
        "            train_set=lgb_dataset,\n",
        "            early_stopping_rounds=50,\n",
        "            return_cvbooster=True,\n",
        "            stratified=stratified,\n",
        "        )\n",
        "        num_boost_round = cv_result[\"cvbooster\"].best_iteration\n",
        "\n",
        "    return lgb.train(\n",
        "        params=params,\n",
        "        train_set=lgb_dataset,\n",
        "        num_boost_round=num_boost_round,\n",
        "    )"
      ],
      "execution_count": null,
      "outputs": []
    },
    {
      "cell_type": "code",
      "metadata": {
        "colab": {
          "base_uri": "https://localhost:8080/"
        },
        "id": "fctoI82fuUiu",
        "outputId": "e8d4081f-f310-4a19-ad1d-ca4a06a83009"
      },
      "source": [
        "outcome_model = train_lightgbm_model(\n",
        "    params={\"objective\": \"regression\", \"metric\": \"rmse\"},\n",
        "    lgb_dataset=lgb.Dataset(\n",
        "        data=df[list('abcdef') + ['treatment']],\n",
        "        label=df['outcome'],\n",
        "    )\n",
        ")"
      ],
      "execution_count": null,
      "outputs": [
        {
          "output_type": "stream",
          "text": [
            "[LightGBM] [Warning] Auto-choosing col-wise multi-threading, the overhead of testing was 0.000508 seconds.\n",
            "You can set `force_col_wise=true` to remove the overhead.\n",
            "[LightGBM] [Info] Total Bins 1532\n",
            "[LightGBM] [Info] Number of data points in the train set: 8000, number of used features: 7\n",
            "[LightGBM] [Warning] Auto-choosing col-wise multi-threading, the overhead of testing was 0.000508 seconds.\n",
            "You can set `force_col_wise=true` to remove the overhead.\n",
            "[LightGBM] [Info] Total Bins 1532\n",
            "[LightGBM] [Info] Number of data points in the train set: 8000, number of used features: 7\n",
            "[LightGBM] [Warning] Auto-choosing col-wise multi-threading, the overhead of testing was 0.000505 seconds.\n",
            "You can set `force_col_wise=true` to remove the overhead.\n",
            "[LightGBM] [Info] Total Bins 1532\n",
            "[LightGBM] [Info] Number of data points in the train set: 8000, number of used features: 7\n",
            "[LightGBM] [Warning] Auto-choosing col-wise multi-threading, the overhead of testing was 0.000503 seconds.\n",
            "You can set `force_col_wise=true` to remove the overhead.\n",
            "[LightGBM] [Info] Total Bins 1532\n",
            "[LightGBM] [Info] Number of data points in the train set: 8000, number of used features: 7\n",
            "[LightGBM] [Warning] Auto-choosing col-wise multi-threading, the overhead of testing was 0.000554 seconds.\n",
            "You can set `force_col_wise=true` to remove the overhead.\n",
            "[LightGBM] [Info] Total Bins 1532\n",
            "[LightGBM] [Info] Number of data points in the train set: 8000, number of used features: 7\n",
            "[LightGBM] [Info] Start training from score 1.607904\n",
            "[LightGBM] [Info] Start training from score 1.599201\n",
            "[LightGBM] [Info] Start training from score 1.611963\n",
            "[LightGBM] [Info] Start training from score 1.619784\n",
            "[LightGBM] [Info] Start training from score 1.623819\n",
            "[LightGBM] [Warning] Auto-choosing col-wise multi-threading, the overhead of testing was 0.000837 seconds.\n",
            "You can set `force_col_wise=true` to remove the overhead.\n",
            "[LightGBM] [Info] Total Bins 1532\n",
            "[LightGBM] [Info] Number of data points in the train set: 10000, number of used features: 7\n",
            "[LightGBM] [Info] Start training from score 1.612534\n"
          ],
          "name": "stdout"
        }
      ]
    },
    {
      "cell_type": "markdown",
      "metadata": {
        "id": "td2NJ2lIpsPJ"
      },
      "source": [
        "Now we have the outcome model. Let's compute residuals from the two models."
      ]
    },
    {
      "cell_type": "code",
      "metadata": {
        "id": "g5VRM5GfzJkS"
      },
      "source": [
        "df[\"_outcome_prediction\"] = outcome_model.predict(df[list('abcdef') + ['treatment']])\n",
        "df[\"outcome_residuals\"] = df[\"outcome\"] - df[\"_outcome_prediction\"]\n",
        "df[\"propensity_residuals\"] = df[\"treatment\"] - df[\"_score\"]"
      ],
      "execution_count": null,
      "outputs": []
    },
    {
      "cell_type": "markdown",
      "metadata": {
        "id": "aRNlOlz6pxi5"
      },
      "source": [
        "Here is a scatter plot of the two sets of residuals."
      ]
    },
    {
      "cell_type": "code",
      "metadata": {
        "colab": {
          "base_uri": "https://localhost:8080/",
          "height": 313
        },
        "id": "gmy0VYaRzwHC",
        "outputId": "fcf9a673-8ddb-4a04-fb2e-449bc479dc50"
      },
      "source": [
        "sns.scatterplot(data=df.sample(frac=0.1), x=\"propensity_residuals\", y=\"outcome_residuals\")\n",
        "plt.title(\"Outcome and Propensity Residuals (Correct Model)\")"
      ],
      "execution_count": null,
      "outputs": [
        {
          "output_type": "execute_result",
          "data": {
            "text/plain": [
              "Text(0.5, 1.0, 'Outcome and Propensity Residuals (Correct Model)')"
            ]
          },
          "metadata": {
            "tags": []
          },
          "execution_count": 99
        },
        {
          "output_type": "display_data",
          "data": {
            "image/png": "[encoded data removed]",
            "text/plain": [
              "<Figure size 432x288 with 1 Axes>"
            ]
          },
          "metadata": {
            "tags": [],
            "needs_background": "light"
          }
        }
      ]
    },
    {
      "cell_type": "markdown",
      "metadata": {
        "id": "kn7spY6KqFa7"
      },
      "source": [
        "From the picture it is hard to tell if there is any relationship. Can we have a formal hypothesis test?\n",
        " \n",
        "### Test Residual Dependence with Mutual Information\n",
        " \n",
        "It turns out we have an established measure on the dependence between two random variables in information theory. This measure is called [mutual information](https://en.wikipedia.org/wiki/Mutual_information) (MI). If two random variables are independent, then their MI is equal to 0. Otherwise it will be above 0.\n",
        " \n",
        "Its sample counterpart is a statistic that measures the dependence of two random samples. `scikit-learn` has an [implementation](https://scikit-learn.org/stable/modules/generated/sklearn.feature_selection.mutual_info_regression.html) under its `feature_selection` module (yes its intended usage is to do feature selection, feel free to explore this usage).\n",
        "\n",
        "I use the following code snippet to compute MI. It is a light wrapper of `mutual_info_regression` that ensures the input has the desired shape and the output is a scalar."
      ]
    },
    {
      "cell_type": "code",
      "metadata": {
        "id": "Jje1U2Ffz3RO"
      },
      "source": [
        "from sklearn.feature_selection import mutual_info_regression\n",
        "\n",
        "def compute_mutual_info(\n",
        "    propensity_residuals: pd.Series, outcome_residuals: pd.Series\n",
        ") -> float:\n",
        "    mutual_info = mutual_info_regression(\n",
        "        X=propensity_residuals.values.reshape(-1, 1),\n",
        "        y=outcome_residuals,\n",
        "    )\n",
        "    return mutual_info.item()"
      ],
      "execution_count": null,
      "outputs": []
    },
    {
      "cell_type": "markdown",
      "metadata": {
        "id": "beBc7Bn2s70q"
      },
      "source": [
        "Unfortunately, the distribution of the sample MI is unclear (Hutter 2002 has a Bayesian posterior derivation, but its frequentist derivation to my knowledge does not exist yet). But, under the null hypothesis, it is very easy to bootstrap its distribution and compute the p value.\n",
        "\n",
        "The idea of the bootstrap is quite simple. Under the null hypothesis, the two residuals are independent. So, any re-sample should not change the statistical behavior of the two residual samples. Re-sample, on the other hand, guarantees independence. So conversely if the two sets of residuals are not independent, then the original MI will be quite different from the re-sampled MI.\n",
        " \n",
        "The code snippet for bootstrapping MI is given as follows.\n"
      ]
    },
    {
      "cell_type": "code",
      "metadata": {
        "id": "WvvCCWm30bKe"
      },
      "source": [
        "from typing import Tuple\n",
        "\n",
        "def bootstrap_mi(\n",
        "    propensity_residuals: pd.Series, \n",
        "    outcome_residuals: pd.Series, \n",
        "    mutual_info: float,\n",
        ") -> Tuple[float, np.array]:\n",
        "    bootstrapped_mi = []\n",
        "    for _ in range(1000):\n",
        "        bootstrapped_mi.append(\n",
        "            compute_mutual_info(\n",
        "                propensity_residuals.sample(frac=1, replace=True),\n",
        "                outcome_residuals.sample(frac=1, replace=True),\n",
        "            )\n",
        "        )\n",
        "    bootstrapped_mi = np.array(bootstrapped_mi)\n",
        "    p_value = np.sum(bootstrapped_mi > mutual_info) / len(bootstrapped_mi)\n",
        "    return p_value, bootstrapped_mi"
      ],
      "execution_count": null,
      "outputs": []
    },
    {
      "cell_type": "markdown",
      "metadata": {
        "id": "1ALrMQigtxio"
      },
      "source": [
        "Let's try it on the models that satisfy the ignorability assumption."
      ]
    },
    {
      "cell_type": "code",
      "metadata": {
        "colab": {
          "base_uri": "https://localhost:8080/"
        },
        "id": "D_HlGYUc0wtB",
        "outputId": "46a2bb5a-5415-4165-c3dc-dcb5845510cc"
      },
      "source": [
        "mutual_info = compute_mutual_info(df[\"propensity_residuals\"], df[\"outcome_residuals\"])\n",
        "p_value, _ = bootstrap_mi(df[\"propensity_residuals\"], df[\"outcome_residuals\"], mutual_info)\n",
        "print((mutual_info, p_value))"
      ],
      "execution_count": null,
      "outputs": [
        {
          "output_type": "stream",
          "text": [
            "(0, 0.52)\n"
          ],
          "name": "stdout"
        }
      ]
    },
    {
      "cell_type": "markdown",
      "metadata": {
        "id": "BwJ-1XHO4zGm"
      },
      "source": [
        "As expected, the sample MI of the two residuals is close to zero and the p value is also safely above 0. \n",
        "\n",
        "What if we exclude important variables? Let's try the residuals that come from the wrong models."
      ]
    },
    {
      "cell_type": "code",
      "metadata": {
        "colab": {
          "base_uri": "https://localhost:8080/"
        },
        "id": "8_j6I5gf5sto",
        "outputId": "d4dd54e6-96cb-4238-af52-dbd2397568ab"
      },
      "source": [
        "outcome_model_ov = train_lightgbm_model(\n",
        "    params={\"objective\": \"regression\", \"metric\": \"rmse\"},\n",
        "    lgb_dataset=lgb.Dataset(\n",
        "        data=df[list('cdef') + ['treatment']],\n",
        "        label=df['outcome'],\n",
        "    )\n",
        ")"
      ],
      "execution_count": null,
      "outputs": [
        {
          "output_type": "stream",
          "text": [
            "[LightGBM] [Warning] Auto-choosing col-wise multi-threading, the overhead of testing was 0.000377 seconds.\n",
            "You can set `force_col_wise=true` to remove the overhead.\n",
            "[LightGBM] [Info] Total Bins 1022\n",
            "[LightGBM] [Info] Number of data points in the train set: 8000, number of used features: 5\n",
            "[LightGBM] [Warning] Auto-choosing col-wise multi-threading, the overhead of testing was 0.000477 seconds.\n",
            "You can set `force_col_wise=true` to remove the overhead.\n",
            "[LightGBM] [Info] Total Bins 1022\n",
            "[LightGBM] [Info] Number of data points in the train set: 8000, number of used features: 5\n",
            "[LightGBM] [Warning] Auto-choosing col-wise multi-threading, the overhead of testing was 0.000391 seconds.\n",
            "You can set `force_col_wise=true` to remove the overhead.\n",
            "[LightGBM] [Info] Total Bins 1022\n",
            "[LightGBM] [Info] Number of data points in the train set: 8000, number of used features: 5\n",
            "[LightGBM] [Warning] Auto-choosing col-wise multi-threading, the overhead of testing was 0.000440 seconds.\n",
            "You can set `force_col_wise=true` to remove the overhead.\n",
            "[LightGBM] [Info] Total Bins 1022\n",
            "[LightGBM] [Info] Number of data points in the train set: 8000, number of used features: 5\n",
            "[LightGBM] [Warning] Auto-choosing col-wise multi-threading, the overhead of testing was 0.000383 seconds.\n",
            "You can set `force_col_wise=true` to remove the overhead.\n",
            "[LightGBM] [Info] Total Bins 1022\n",
            "[LightGBM] [Info] Number of data points in the train set: 8000, number of used features: 5\n",
            "[LightGBM] [Info] Start training from score 1.607904\n",
            "[LightGBM] [Info] Start training from score 1.599201\n",
            "[LightGBM] [Info] Start training from score 1.611963\n",
            "[LightGBM] [Info] Start training from score 1.619784\n",
            "[LightGBM] [Info] Start training from score 1.623819\n",
            "[LightGBM] [Warning] Auto-choosing col-wise multi-threading, the overhead of testing was 0.000482 seconds.\n",
            "You can set `force_col_wise=true` to remove the overhead.\n",
            "[LightGBM] [Info] Total Bins 1022\n",
            "[LightGBM] [Info] Number of data points in the train set: 10000, number of used features: 5\n",
            "[LightGBM] [Info] Start training from score 1.612534\n"
          ],
          "name": "stdout"
        }
      ]
    },
    {
      "cell_type": "code",
      "metadata": {
        "id": "ghCJSzoY8PdQ"
      },
      "source": [
        "df[\"_outcome_prediction_ov\"] = outcome_model_ov.predict(df[list('cdef') + ['treatment']])\n",
        "df[\"outcome_residuals_ov\"] = df[\"outcome\"] - df[\"_outcome_prediction_ov\"]\n",
        "df[\"propensity_residuals_ov\"] = df[\"treatment\"] - df[\"_score_ov\"]"
      ],
      "execution_count": null,
      "outputs": []
    },
    {
      "cell_type": "code",
      "metadata": {
        "colab": {
          "base_uri": "https://localhost:8080/",
          "height": 313
        },
        "id": "btPPRoY88cfB",
        "outputId": "864f7ceb-0adb-42ee-feb7-b1ad1b347a04"
      },
      "source": [
        "sns.scatterplot(data=df.sample(frac=0.1), x=\"propensity_residuals_ov\", y=\"outcome_residuals_ov\")\n",
        "plt.title(\"Outcome and Propensity Residuals (Exclud 'a' and 'b')\")"
      ],
      "execution_count": null,
      "outputs": [
        {
          "output_type": "execute_result",
          "data": {
            "text/plain": [
              "Text(0.5, 1.0, \"Outcome and Propensity Residuals (Exclud 'a' and 'b')\")"
            ]
          },
          "metadata": {
            "tags": []
          },
          "execution_count": 98
        },
        {
          "output_type": "display_data",
          "data": {
            "image/png": "[encoded data removed]",
            "text/plain": [
              "<Figure size 432x288 with 1 Axes>"
            ]
          },
          "metadata": {
            "tags": [],
            "needs_background": "light"
          }
        }
      ]
    },
    {
      "cell_type": "markdown",
      "metadata": {
        "id": "13PgIcQuugOi"
      },
      "source": [
        "It is still hard to decipher the scatterplot. Let's compute the MI and do the bootstrap."
      ]
    },
    {
      "cell_type": "code",
      "metadata": {
        "colab": {
          "base_uri": "https://localhost:8080/"
        },
        "id": "31Qai5QU8s7J",
        "outputId": "46684ae4-731f-4c6b-f5d6-8874f580333b"
      },
      "source": [
        "mutual_info_ov = compute_mutual_info(df[\"propensity_residuals_ov\"], df[\"outcome_residuals_ov\"])\n",
        "p_value_ov, _ = bootstrap_mi(df[\"propensity_residuals_ov\"], df[\"outcome_residuals_ov\"], mutual_info_ov)\n",
        "print((mutual_info_ov, p_value_ov))"
      ],
      "execution_count": null,
      "outputs": [
        {
          "output_type": "stream",
          "text": [
            "(0.019752510285854896, 0.006)\n"
          ],
          "name": "stdout"
        }
      ]
    },
    {
      "cell_type": "markdown",
      "metadata": {
        "id": "qnSagF9l9juE"
      },
      "source": [
        "Compared to the previous case, here the MI is much higher and the p value is close 0. We can safely reject the null that we have included all the relevant features."
      ]
    },
    {
      "cell_type": "markdown",
      "metadata": {
        "id": "qoV7pHaL3XRX"
      },
      "source": [
        "## Summary\n",
        "\n",
        "PSM is a valuable tool to help you establish the causal relationship from observational data. It can take care of confounders even if you do not know how the confounders influence the outcome. However, for the PSM to be successful, you need to make sure the ignorability assumption holds. \n"
      ]
    },
    {
      "cell_type": "markdown",
      "metadata": {
        "id": "ZClffiO8ut4b"
      },
      "source": [
        "## Notes\n",
        "\n",
        "[1] For example, you may be careful enough to write down sentences like \"X is *associated* with a better outcome\", but you just fool yourself if your stakeholders use it to make decisions as if X *causes* a better outcome.\n",
        "\n",
        "[2] Informed readers may have read King and Nielsen's (2019) criticism on the PSM. I find their advice hardly applicable on real world datasets where you may have hundreds or thousands of features of mixed types. Because of the curse of dimensionality, you can rarely find counterparts of a data point in its vicinity. So you end up with dropping a big chunk of your dataset if you want to mimic a fully blocked experiment.\n",
        "\n",
        "[3] Well I don't actually use it, but it helps you to understand what the matching actually does. You probably want to use an existing package like [MatchIt](https://cran.r-project.org/web/packages/MatchIt/index.html) in your own work. If you need to implement a nearest neighbor matching yourself, you should go for an efficient nearest neighbor algorithm.\n",
        "\n",
        "[4] For the informed readers, the idea is inspired by the Heckman selection model. \n"
      ]
    },
    {
      "cell_type": "markdown",
      "metadata": {
        "id": "gNOlm3hkrcOk"
      },
      "source": [
        "## References\n",
        "\n",
        "Gu, Xing Sam, and Paul R. Rosenbaum. \"Comparison of multivariate matching methods: Structures, distances, and algorithms.\" Journal of Computational and Graphical Statistics 2.4 (1993): 405-420.\n",
        "\n",
        "Hutter, Marcus. \"Distribution of mutual information.\" Advances in neural information processing systems 1 (2002): 399-406.\n",
        "\n",
        "King, Gary and Richard Nielsen. \"Why Propensity Scores Should Not Be Used for Matching.\" Political Analysis 27, 4 (May 2019): 435-454.\n",
        "\n",
        "Masten, Matthew A., Alexandre Poirier, and Linqi Zhang. \"Assessing Sensitivity to Unconfoundedness: Estimation and Inference.\" arXiv preprint arXiv:2012.15716 (2020)."
      ]
    },
    {
      "cell_type": "code",
      "metadata": {
        "id": "oSryZ8SI8thR"
      },
      "source": [
        ""
      ],
      "execution_count": null,
      "outputs": []
    }
  ]
}